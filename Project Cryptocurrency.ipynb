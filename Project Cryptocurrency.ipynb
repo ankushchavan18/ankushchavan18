{
 "cells": [
  {
   "cell_type": "markdown",
   "id": "6551dead",
   "metadata": {},
   "source": [
    "# Pandas"
   ]
  },
  {
   "cell_type": "code",
   "execution_count": 1,
   "id": "d9333347",
   "metadata": {},
   "outputs": [],
   "source": [
    "# Pandas is a open-source library in python . \n"
   ]
  },
  {
   "cell_type": "code",
   "execution_count": 2,
   "id": "ac154f31",
   "metadata": {},
   "outputs": [],
   "source": [
    "import pandas as pd \n",
    "# !pip install pandas "
   ]
  },
  {
   "cell_type": "code",
   "execution_count": 3,
   "id": "4d5fcae1",
   "metadata": {},
   "outputs": [],
   "source": [
    "# Q.1 How to create a DataFrame using Dictionary ? "
   ]
  },
  {
   "cell_type": "code",
   "execution_count": 4,
   "id": "ea976513",
   "metadata": {},
   "outputs": [],
   "source": [
    "a = {\n",
    "    \"Name\" : ['Mohit' , 'Rahul' , 'Kriti' , 'Purvi' , 'Suman' , 'Akhshra'],\n",
    "    \"Department\":['Sales','Management','HR','HR','Sales','Management'] ,\n",
    "    \"Salary\" : [20000,30000,40000,25000,15000,35000]\n",
    "}"
   ]
  },
  {
   "cell_type": "code",
   "execution_count": 5,
   "id": "8c27e1c7",
   "metadata": {},
   "outputs": [
    {
     "data": {
      "text/plain": [
       "{'Name': ['Mohit', 'Rahul', 'Kriti', 'Purvi', 'Suman', 'Akhshra'],\n",
       " 'Department': ['Sales', 'Management', 'HR', 'HR', 'Sales', 'Management'],\n",
       " 'Salary': [20000, 30000, 40000, 25000, 15000, 35000]}"
      ]
     },
     "execution_count": 5,
     "metadata": {},
     "output_type": "execute_result"
    }
   ],
   "source": [
    "a"
   ]
  },
  {
   "cell_type": "code",
   "execution_count": 6,
   "id": "0fed83b8",
   "metadata": {},
   "outputs": [
    {
     "data": {
      "text/html": [
       "<div>\n",
       "<style scoped>\n",
       "    .dataframe tbody tr th:only-of-type {\n",
       "        vertical-align: middle;\n",
       "    }\n",
       "\n",
       "    .dataframe tbody tr th {\n",
       "        vertical-align: top;\n",
       "    }\n",
       "\n",
       "    .dataframe thead th {\n",
       "        text-align: right;\n",
       "    }\n",
       "</style>\n",
       "<table border=\"1\" class=\"dataframe\">\n",
       "  <thead>\n",
       "    <tr style=\"text-align: right;\">\n",
       "      <th></th>\n",
       "      <th>Name</th>\n",
       "      <th>Department</th>\n",
       "      <th>Salary</th>\n",
       "    </tr>\n",
       "  </thead>\n",
       "  <tbody>\n",
       "    <tr>\n",
       "      <th>0</th>\n",
       "      <td>Mohit</td>\n",
       "      <td>Sales</td>\n",
       "      <td>20000</td>\n",
       "    </tr>\n",
       "    <tr>\n",
       "      <th>1</th>\n",
       "      <td>Rahul</td>\n",
       "      <td>Management</td>\n",
       "      <td>30000</td>\n",
       "    </tr>\n",
       "    <tr>\n",
       "      <th>2</th>\n",
       "      <td>Kriti</td>\n",
       "      <td>HR</td>\n",
       "      <td>40000</td>\n",
       "    </tr>\n",
       "    <tr>\n",
       "      <th>3</th>\n",
       "      <td>Purvi</td>\n",
       "      <td>HR</td>\n",
       "      <td>25000</td>\n",
       "    </tr>\n",
       "    <tr>\n",
       "      <th>4</th>\n",
       "      <td>Suman</td>\n",
       "      <td>Sales</td>\n",
       "      <td>15000</td>\n",
       "    </tr>\n",
       "    <tr>\n",
       "      <th>5</th>\n",
       "      <td>Akhshra</td>\n",
       "      <td>Management</td>\n",
       "      <td>35000</td>\n",
       "    </tr>\n",
       "  </tbody>\n",
       "</table>\n",
       "</div>"
      ],
      "text/plain": [
       "      Name  Department  Salary\n",
       "0    Mohit       Sales   20000\n",
       "1    Rahul  Management   30000\n",
       "2    Kriti          HR   40000\n",
       "3    Purvi          HR   25000\n",
       "4    Suman       Sales   15000\n",
       "5  Akhshra  Management   35000"
      ]
     },
     "execution_count": 6,
     "metadata": {},
     "output_type": "execute_result"
    }
   ],
   "source": [
    "df = pd.DataFrame(a)\n",
    "df"
   ]
  },
  {
   "cell_type": "code",
   "execution_count": 7,
   "id": "d2ea5510",
   "metadata": {},
   "outputs": [],
   "source": [
    "# How to check top 5 data in a dataframe ? "
   ]
  },
  {
   "cell_type": "code",
   "execution_count": 8,
   "id": "78392c49",
   "metadata": {},
   "outputs": [
    {
     "data": {
      "text/html": [
       "<div>\n",
       "<style scoped>\n",
       "    .dataframe tbody tr th:only-of-type {\n",
       "        vertical-align: middle;\n",
       "    }\n",
       "\n",
       "    .dataframe tbody tr th {\n",
       "        vertical-align: top;\n",
       "    }\n",
       "\n",
       "    .dataframe thead th {\n",
       "        text-align: right;\n",
       "    }\n",
       "</style>\n",
       "<table border=\"1\" class=\"dataframe\">\n",
       "  <thead>\n",
       "    <tr style=\"text-align: right;\">\n",
       "      <th></th>\n",
       "      <th>Name</th>\n",
       "      <th>Department</th>\n",
       "      <th>Salary</th>\n",
       "    </tr>\n",
       "  </thead>\n",
       "  <tbody>\n",
       "    <tr>\n",
       "      <th>0</th>\n",
       "      <td>Mohit</td>\n",
       "      <td>Sales</td>\n",
       "      <td>20000</td>\n",
       "    </tr>\n",
       "    <tr>\n",
       "      <th>1</th>\n",
       "      <td>Rahul</td>\n",
       "      <td>Management</td>\n",
       "      <td>30000</td>\n",
       "    </tr>\n",
       "    <tr>\n",
       "      <th>2</th>\n",
       "      <td>Kriti</td>\n",
       "      <td>HR</td>\n",
       "      <td>40000</td>\n",
       "    </tr>\n",
       "    <tr>\n",
       "      <th>3</th>\n",
       "      <td>Purvi</td>\n",
       "      <td>HR</td>\n",
       "      <td>25000</td>\n",
       "    </tr>\n",
       "    <tr>\n",
       "      <th>4</th>\n",
       "      <td>Suman</td>\n",
       "      <td>Sales</td>\n",
       "      <td>15000</td>\n",
       "    </tr>\n",
       "  </tbody>\n",
       "</table>\n",
       "</div>"
      ],
      "text/plain": [
       "    Name  Department  Salary\n",
       "0  Mohit       Sales   20000\n",
       "1  Rahul  Management   30000\n",
       "2  Kriti          HR   40000\n",
       "3  Purvi          HR   25000\n",
       "4  Suman       Sales   15000"
      ]
     },
     "execution_count": 8,
     "metadata": {},
     "output_type": "execute_result"
    }
   ],
   "source": [
    "df.head() "
   ]
  },
  {
   "cell_type": "code",
   "execution_count": 9,
   "id": "07557775",
   "metadata": {},
   "outputs": [
    {
     "data": {
      "text/html": [
       "<div>\n",
       "<style scoped>\n",
       "    .dataframe tbody tr th:only-of-type {\n",
       "        vertical-align: middle;\n",
       "    }\n",
       "\n",
       "    .dataframe tbody tr th {\n",
       "        vertical-align: top;\n",
       "    }\n",
       "\n",
       "    .dataframe thead th {\n",
       "        text-align: right;\n",
       "    }\n",
       "</style>\n",
       "<table border=\"1\" class=\"dataframe\">\n",
       "  <thead>\n",
       "    <tr style=\"text-align: right;\">\n",
       "      <th></th>\n",
       "      <th>Name</th>\n",
       "      <th>Department</th>\n",
       "      <th>Salary</th>\n",
       "    </tr>\n",
       "  </thead>\n",
       "  <tbody>\n",
       "    <tr>\n",
       "      <th>0</th>\n",
       "      <td>Mohit</td>\n",
       "      <td>Sales</td>\n",
       "      <td>20000</td>\n",
       "    </tr>\n",
       "    <tr>\n",
       "      <th>1</th>\n",
       "      <td>Rahul</td>\n",
       "      <td>Management</td>\n",
       "      <td>30000</td>\n",
       "    </tr>\n",
       "  </tbody>\n",
       "</table>\n",
       "</div>"
      ],
      "text/plain": [
       "    Name  Department  Salary\n",
       "0  Mohit       Sales   20000\n",
       "1  Rahul  Management   30000"
      ]
     },
     "execution_count": 9,
     "metadata": {},
     "output_type": "execute_result"
    }
   ],
   "source": [
    "df.head(2) "
   ]
  },
  {
   "cell_type": "code",
   "execution_count": 10,
   "id": "3b9fb40d",
   "metadata": {},
   "outputs": [
    {
     "data": {
      "text/html": [
       "<div>\n",
       "<style scoped>\n",
       "    .dataframe tbody tr th:only-of-type {\n",
       "        vertical-align: middle;\n",
       "    }\n",
       "\n",
       "    .dataframe tbody tr th {\n",
       "        vertical-align: top;\n",
       "    }\n",
       "\n",
       "    .dataframe thead th {\n",
       "        text-align: right;\n",
       "    }\n",
       "</style>\n",
       "<table border=\"1\" class=\"dataframe\">\n",
       "  <thead>\n",
       "    <tr style=\"text-align: right;\">\n",
       "      <th></th>\n",
       "      <th>Name</th>\n",
       "      <th>Department</th>\n",
       "      <th>Salary</th>\n",
       "    </tr>\n",
       "  </thead>\n",
       "  <tbody>\n",
       "    <tr>\n",
       "      <th>0</th>\n",
       "      <td>Mohit</td>\n",
       "      <td>Sales</td>\n",
       "      <td>20000</td>\n",
       "    </tr>\n",
       "    <tr>\n",
       "      <th>1</th>\n",
       "      <td>Rahul</td>\n",
       "      <td>Management</td>\n",
       "      <td>30000</td>\n",
       "    </tr>\n",
       "    <tr>\n",
       "      <th>2</th>\n",
       "      <td>Kriti</td>\n",
       "      <td>HR</td>\n",
       "      <td>40000</td>\n",
       "    </tr>\n",
       "  </tbody>\n",
       "</table>\n",
       "</div>"
      ],
      "text/plain": [
       "    Name  Department  Salary\n",
       "0  Mohit       Sales   20000\n",
       "1  Rahul  Management   30000\n",
       "2  Kriti          HR   40000"
      ]
     },
     "execution_count": 10,
     "metadata": {},
     "output_type": "execute_result"
    }
   ],
   "source": [
    "df.head(3) "
   ]
  },
  {
   "cell_type": "code",
   "execution_count": 11,
   "id": "bd3d3622",
   "metadata": {},
   "outputs": [],
   "source": [
    "# How to check bottom 5 datas ? "
   ]
  },
  {
   "cell_type": "code",
   "execution_count": 12,
   "id": "666fd8a1",
   "metadata": {},
   "outputs": [
    {
     "data": {
      "text/html": [
       "<div>\n",
       "<style scoped>\n",
       "    .dataframe tbody tr th:only-of-type {\n",
       "        vertical-align: middle;\n",
       "    }\n",
       "\n",
       "    .dataframe tbody tr th {\n",
       "        vertical-align: top;\n",
       "    }\n",
       "\n",
       "    .dataframe thead th {\n",
       "        text-align: right;\n",
       "    }\n",
       "</style>\n",
       "<table border=\"1\" class=\"dataframe\">\n",
       "  <thead>\n",
       "    <tr style=\"text-align: right;\">\n",
       "      <th></th>\n",
       "      <th>Name</th>\n",
       "      <th>Department</th>\n",
       "      <th>Salary</th>\n",
       "    </tr>\n",
       "  </thead>\n",
       "  <tbody>\n",
       "    <tr>\n",
       "      <th>1</th>\n",
       "      <td>Rahul</td>\n",
       "      <td>Management</td>\n",
       "      <td>30000</td>\n",
       "    </tr>\n",
       "    <tr>\n",
       "      <th>2</th>\n",
       "      <td>Kriti</td>\n",
       "      <td>HR</td>\n",
       "      <td>40000</td>\n",
       "    </tr>\n",
       "    <tr>\n",
       "      <th>3</th>\n",
       "      <td>Purvi</td>\n",
       "      <td>HR</td>\n",
       "      <td>25000</td>\n",
       "    </tr>\n",
       "    <tr>\n",
       "      <th>4</th>\n",
       "      <td>Suman</td>\n",
       "      <td>Sales</td>\n",
       "      <td>15000</td>\n",
       "    </tr>\n",
       "    <tr>\n",
       "      <th>5</th>\n",
       "      <td>Akhshra</td>\n",
       "      <td>Management</td>\n",
       "      <td>35000</td>\n",
       "    </tr>\n",
       "  </tbody>\n",
       "</table>\n",
       "</div>"
      ],
      "text/plain": [
       "      Name  Department  Salary\n",
       "1    Rahul  Management   30000\n",
       "2    Kriti          HR   40000\n",
       "3    Purvi          HR   25000\n",
       "4    Suman       Sales   15000\n",
       "5  Akhshra  Management   35000"
      ]
     },
     "execution_count": 12,
     "metadata": {},
     "output_type": "execute_result"
    }
   ],
   "source": [
    "df.tail()"
   ]
  },
  {
   "cell_type": "code",
   "execution_count": 13,
   "id": "37344c31",
   "metadata": {},
   "outputs": [
    {
     "data": {
      "text/html": [
       "<div>\n",
       "<style scoped>\n",
       "    .dataframe tbody tr th:only-of-type {\n",
       "        vertical-align: middle;\n",
       "    }\n",
       "\n",
       "    .dataframe tbody tr th {\n",
       "        vertical-align: top;\n",
       "    }\n",
       "\n",
       "    .dataframe thead th {\n",
       "        text-align: right;\n",
       "    }\n",
       "</style>\n",
       "<table border=\"1\" class=\"dataframe\">\n",
       "  <thead>\n",
       "    <tr style=\"text-align: right;\">\n",
       "      <th></th>\n",
       "      <th>Name</th>\n",
       "      <th>Department</th>\n",
       "      <th>Salary</th>\n",
       "    </tr>\n",
       "  </thead>\n",
       "  <tbody>\n",
       "    <tr>\n",
       "      <th>4</th>\n",
       "      <td>Suman</td>\n",
       "      <td>Sales</td>\n",
       "      <td>15000</td>\n",
       "    </tr>\n",
       "    <tr>\n",
       "      <th>5</th>\n",
       "      <td>Akhshra</td>\n",
       "      <td>Management</td>\n",
       "      <td>35000</td>\n",
       "    </tr>\n",
       "  </tbody>\n",
       "</table>\n",
       "</div>"
      ],
      "text/plain": [
       "      Name  Department  Salary\n",
       "4    Suman       Sales   15000\n",
       "5  Akhshra  Management   35000"
      ]
     },
     "execution_count": 13,
     "metadata": {},
     "output_type": "execute_result"
    }
   ],
   "source": [
    "df.tail(2) "
   ]
  },
  {
   "cell_type": "code",
   "execution_count": 14,
   "id": "1121562a",
   "metadata": {},
   "outputs": [
    {
     "data": {
      "text/html": [
       "<div>\n",
       "<style scoped>\n",
       "    .dataframe tbody tr th:only-of-type {\n",
       "        vertical-align: middle;\n",
       "    }\n",
       "\n",
       "    .dataframe tbody tr th {\n",
       "        vertical-align: top;\n",
       "    }\n",
       "\n",
       "    .dataframe thead th {\n",
       "        text-align: right;\n",
       "    }\n",
       "</style>\n",
       "<table border=\"1\" class=\"dataframe\">\n",
       "  <thead>\n",
       "    <tr style=\"text-align: right;\">\n",
       "      <th></th>\n",
       "      <th>Name</th>\n",
       "      <th>Department</th>\n",
       "      <th>Salary</th>\n",
       "    </tr>\n",
       "  </thead>\n",
       "  <tbody>\n",
       "    <tr>\n",
       "      <th>3</th>\n",
       "      <td>Purvi</td>\n",
       "      <td>HR</td>\n",
       "      <td>25000</td>\n",
       "    </tr>\n",
       "    <tr>\n",
       "      <th>4</th>\n",
       "      <td>Suman</td>\n",
       "      <td>Sales</td>\n",
       "      <td>15000</td>\n",
       "    </tr>\n",
       "    <tr>\n",
       "      <th>5</th>\n",
       "      <td>Akhshra</td>\n",
       "      <td>Management</td>\n",
       "      <td>35000</td>\n",
       "    </tr>\n",
       "  </tbody>\n",
       "</table>\n",
       "</div>"
      ],
      "text/plain": [
       "      Name  Department  Salary\n",
       "3    Purvi          HR   25000\n",
       "4    Suman       Sales   15000\n",
       "5  Akhshra  Management   35000"
      ]
     },
     "execution_count": 14,
     "metadata": {},
     "output_type": "execute_result"
    }
   ],
   "source": [
    "df.tail(3)"
   ]
  },
  {
   "cell_type": "code",
   "execution_count": 15,
   "id": "0e383965",
   "metadata": {},
   "outputs": [],
   "source": [
    "# How to check random data ? "
   ]
  },
  {
   "cell_type": "code",
   "execution_count": 16,
   "id": "c1fdf7e9",
   "metadata": {},
   "outputs": [
    {
     "data": {
      "text/html": [
       "<div>\n",
       "<style scoped>\n",
       "    .dataframe tbody tr th:only-of-type {\n",
       "        vertical-align: middle;\n",
       "    }\n",
       "\n",
       "    .dataframe tbody tr th {\n",
       "        vertical-align: top;\n",
       "    }\n",
       "\n",
       "    .dataframe thead th {\n",
       "        text-align: right;\n",
       "    }\n",
       "</style>\n",
       "<table border=\"1\" class=\"dataframe\">\n",
       "  <thead>\n",
       "    <tr style=\"text-align: right;\">\n",
       "      <th></th>\n",
       "      <th>Name</th>\n",
       "      <th>Department</th>\n",
       "      <th>Salary</th>\n",
       "    </tr>\n",
       "  </thead>\n",
       "  <tbody>\n",
       "    <tr>\n",
       "      <th>4</th>\n",
       "      <td>Suman</td>\n",
       "      <td>Sales</td>\n",
       "      <td>15000</td>\n",
       "    </tr>\n",
       "  </tbody>\n",
       "</table>\n",
       "</div>"
      ],
      "text/plain": [
       "    Name Department  Salary\n",
       "4  Suman      Sales   15000"
      ]
     },
     "execution_count": 16,
     "metadata": {},
     "output_type": "execute_result"
    }
   ],
   "source": [
    "df.sample()"
   ]
  },
  {
   "cell_type": "code",
   "execution_count": 17,
   "id": "04abae70",
   "metadata": {},
   "outputs": [
    {
     "data": {
      "text/html": [
       "<div>\n",
       "<style scoped>\n",
       "    .dataframe tbody tr th:only-of-type {\n",
       "        vertical-align: middle;\n",
       "    }\n",
       "\n",
       "    .dataframe tbody tr th {\n",
       "        vertical-align: top;\n",
       "    }\n",
       "\n",
       "    .dataframe thead th {\n",
       "        text-align: right;\n",
       "    }\n",
       "</style>\n",
       "<table border=\"1\" class=\"dataframe\">\n",
       "  <thead>\n",
       "    <tr style=\"text-align: right;\">\n",
       "      <th></th>\n",
       "      <th>Name</th>\n",
       "      <th>Department</th>\n",
       "      <th>Salary</th>\n",
       "    </tr>\n",
       "  </thead>\n",
       "  <tbody>\n",
       "    <tr>\n",
       "      <th>0</th>\n",
       "      <td>Mohit</td>\n",
       "      <td>Sales</td>\n",
       "      <td>20000</td>\n",
       "    </tr>\n",
       "    <tr>\n",
       "      <th>5</th>\n",
       "      <td>Akhshra</td>\n",
       "      <td>Management</td>\n",
       "      <td>35000</td>\n",
       "    </tr>\n",
       "    <tr>\n",
       "      <th>3</th>\n",
       "      <td>Purvi</td>\n",
       "      <td>HR</td>\n",
       "      <td>25000</td>\n",
       "    </tr>\n",
       "    <tr>\n",
       "      <th>2</th>\n",
       "      <td>Kriti</td>\n",
       "      <td>HR</td>\n",
       "      <td>40000</td>\n",
       "    </tr>\n",
       "  </tbody>\n",
       "</table>\n",
       "</div>"
      ],
      "text/plain": [
       "      Name  Department  Salary\n",
       "0    Mohit       Sales   20000\n",
       "5  Akhshra  Management   35000\n",
       "3    Purvi          HR   25000\n",
       "2    Kriti          HR   40000"
      ]
     },
     "execution_count": 17,
     "metadata": {},
     "output_type": "execute_result"
    }
   ],
   "source": [
    "df.sample(4) "
   ]
  },
  {
   "cell_type": "code",
   "execution_count": 18,
   "id": "450e2494",
   "metadata": {},
   "outputs": [],
   "source": [
    "# How to save our data in excel ? \n",
    "\n",
    "# df.to_csv('EmpDepartmentsalary.csv')\n",
    "df.to_csv('EmpDepartmentsalary.csv' , index = False)"
   ]
  },
  {
   "cell_type": "markdown",
   "id": "659b38cb",
   "metadata": {},
   "source": [
    "# Describe() ==> Describe() is used for viewing statical structure of a dataframe . "
   ]
  },
  {
   "cell_type": "code",
   "execution_count": 19,
   "id": "8c8c3eb0",
   "metadata": {},
   "outputs": [
    {
     "data": {
      "text/html": [
       "<div>\n",
       "<style scoped>\n",
       "    .dataframe tbody tr th:only-of-type {\n",
       "        vertical-align: middle;\n",
       "    }\n",
       "\n",
       "    .dataframe tbody tr th {\n",
       "        vertical-align: top;\n",
       "    }\n",
       "\n",
       "    .dataframe thead th {\n",
       "        text-align: right;\n",
       "    }\n",
       "</style>\n",
       "<table border=\"1\" class=\"dataframe\">\n",
       "  <thead>\n",
       "    <tr style=\"text-align: right;\">\n",
       "      <th></th>\n",
       "      <th>Salary</th>\n",
       "    </tr>\n",
       "  </thead>\n",
       "  <tbody>\n",
       "    <tr>\n",
       "      <th>count</th>\n",
       "      <td>6.000000</td>\n",
       "    </tr>\n",
       "    <tr>\n",
       "      <th>mean</th>\n",
       "      <td>27500.000000</td>\n",
       "    </tr>\n",
       "    <tr>\n",
       "      <th>std</th>\n",
       "      <td>9354.143467</td>\n",
       "    </tr>\n",
       "    <tr>\n",
       "      <th>min</th>\n",
       "      <td>15000.000000</td>\n",
       "    </tr>\n",
       "    <tr>\n",
       "      <th>25%</th>\n",
       "      <td>21250.000000</td>\n",
       "    </tr>\n",
       "    <tr>\n",
       "      <th>50%</th>\n",
       "      <td>27500.000000</td>\n",
       "    </tr>\n",
       "    <tr>\n",
       "      <th>75%</th>\n",
       "      <td>33750.000000</td>\n",
       "    </tr>\n",
       "    <tr>\n",
       "      <th>max</th>\n",
       "      <td>40000.000000</td>\n",
       "    </tr>\n",
       "  </tbody>\n",
       "</table>\n",
       "</div>"
      ],
      "text/plain": [
       "             Salary\n",
       "count      6.000000\n",
       "mean   27500.000000\n",
       "std     9354.143467\n",
       "min    15000.000000\n",
       "25%    21250.000000\n",
       "50%    27500.000000\n",
       "75%    33750.000000\n",
       "max    40000.000000"
      ]
     },
     "execution_count": 19,
     "metadata": {},
     "output_type": "execute_result"
    }
   ],
   "source": [
    "df.describe()"
   ]
  },
  {
   "cell_type": "code",
   "execution_count": 20,
   "id": "f3d32e8f",
   "metadata": {},
   "outputs": [],
   "source": [
    "df['Working_Hours'] = [4,5,3,4,5,5]"
   ]
  },
  {
   "cell_type": "code",
   "execution_count": 21,
   "id": "f36565b8",
   "metadata": {},
   "outputs": [
    {
     "data": {
      "text/html": [
       "<div>\n",
       "<style scoped>\n",
       "    .dataframe tbody tr th:only-of-type {\n",
       "        vertical-align: middle;\n",
       "    }\n",
       "\n",
       "    .dataframe tbody tr th {\n",
       "        vertical-align: top;\n",
       "    }\n",
       "\n",
       "    .dataframe thead th {\n",
       "        text-align: right;\n",
       "    }\n",
       "</style>\n",
       "<table border=\"1\" class=\"dataframe\">\n",
       "  <thead>\n",
       "    <tr style=\"text-align: right;\">\n",
       "      <th></th>\n",
       "      <th>Name</th>\n",
       "      <th>Department</th>\n",
       "      <th>Salary</th>\n",
       "      <th>Working_Hours</th>\n",
       "    </tr>\n",
       "  </thead>\n",
       "  <tbody>\n",
       "    <tr>\n",
       "      <th>0</th>\n",
       "      <td>Mohit</td>\n",
       "      <td>Sales</td>\n",
       "      <td>20000</td>\n",
       "      <td>4</td>\n",
       "    </tr>\n",
       "    <tr>\n",
       "      <th>1</th>\n",
       "      <td>Rahul</td>\n",
       "      <td>Management</td>\n",
       "      <td>30000</td>\n",
       "      <td>5</td>\n",
       "    </tr>\n",
       "    <tr>\n",
       "      <th>2</th>\n",
       "      <td>Kriti</td>\n",
       "      <td>HR</td>\n",
       "      <td>40000</td>\n",
       "      <td>3</td>\n",
       "    </tr>\n",
       "    <tr>\n",
       "      <th>3</th>\n",
       "      <td>Purvi</td>\n",
       "      <td>HR</td>\n",
       "      <td>25000</td>\n",
       "      <td>4</td>\n",
       "    </tr>\n",
       "    <tr>\n",
       "      <th>4</th>\n",
       "      <td>Suman</td>\n",
       "      <td>Sales</td>\n",
       "      <td>15000</td>\n",
       "      <td>5</td>\n",
       "    </tr>\n",
       "    <tr>\n",
       "      <th>5</th>\n",
       "      <td>Akhshra</td>\n",
       "      <td>Management</td>\n",
       "      <td>35000</td>\n",
       "      <td>5</td>\n",
       "    </tr>\n",
       "  </tbody>\n",
       "</table>\n",
       "</div>"
      ],
      "text/plain": [
       "      Name  Department  Salary  Working_Hours\n",
       "0    Mohit       Sales   20000              4\n",
       "1    Rahul  Management   30000              5\n",
       "2    Kriti          HR   40000              3\n",
       "3    Purvi          HR   25000              4\n",
       "4    Suman       Sales   15000              5\n",
       "5  Akhshra  Management   35000              5"
      ]
     },
     "execution_count": 21,
     "metadata": {},
     "output_type": "execute_result"
    }
   ],
   "source": [
    "df"
   ]
  },
  {
   "cell_type": "code",
   "execution_count": 22,
   "id": "fe5a1924",
   "metadata": {},
   "outputs": [
    {
     "data": {
      "text/plain": [
       "0      Mohit\n",
       "1      Rahul\n",
       "2      Kriti\n",
       "3      Purvi\n",
       "4      Suman\n",
       "5    Akhshra\n",
       "Name: Name, dtype: object"
      ]
     },
     "execution_count": 22,
     "metadata": {},
     "output_type": "execute_result"
    }
   ],
   "source": [
    "df['Name']"
   ]
  },
  {
   "cell_type": "code",
   "execution_count": 23,
   "id": "04e6b58b",
   "metadata": {},
   "outputs": [
    {
     "data": {
      "text/plain": [
       "0         Sales\n",
       "1    Management\n",
       "2            HR\n",
       "3            HR\n",
       "4         Sales\n",
       "5    Management\n",
       "Name: Department, dtype: object"
      ]
     },
     "execution_count": 23,
     "metadata": {},
     "output_type": "execute_result"
    }
   ],
   "source": [
    "df['Department']"
   ]
  },
  {
   "cell_type": "code",
   "execution_count": 24,
   "id": "72f86f83",
   "metadata": {},
   "outputs": [
    {
     "data": {
      "text/plain": [
       "0    20000\n",
       "1    30000\n",
       "2    40000\n",
       "3    25000\n",
       "4    15000\n",
       "5    35000\n",
       "Name: Salary, dtype: int64"
      ]
     },
     "execution_count": 24,
     "metadata": {},
     "output_type": "execute_result"
    }
   ],
   "source": [
    "df['Salary']"
   ]
  },
  {
   "cell_type": "code",
   "execution_count": 25,
   "id": "c6199210",
   "metadata": {},
   "outputs": [
    {
     "data": {
      "text/plain": [
       "0    4\n",
       "1    5\n",
       "2    3\n",
       "3    4\n",
       "4    5\n",
       "5    5\n",
       "Name: Working_Hours, dtype: int64"
      ]
     },
     "execution_count": 25,
     "metadata": {},
     "output_type": "execute_result"
    }
   ],
   "source": [
    "df['Working_Hours']"
   ]
  },
  {
   "cell_type": "code",
   "execution_count": 26,
   "id": "e6f76a43",
   "metadata": {},
   "outputs": [
    {
     "name": "stderr",
     "output_type": "stream",
     "text": [
      "C:\\Users\\saurabh\\AppData\\Local\\Temp\\ipykernel_12948\\627838235.py:1: SettingWithCopyWarning: \n",
      "A value is trying to be set on a copy of a slice from a DataFrame\n",
      "\n",
      "See the caveats in the documentation: https://pandas.pydata.org/pandas-docs/stable/user_guide/indexing.html#returning-a-view-versus-a-copy\n",
      "  df['Salary'][2] = 32000\n"
     ]
    }
   ],
   "source": [
    "df['Salary'][2] = 32000"
   ]
  },
  {
   "cell_type": "code",
   "execution_count": 27,
   "id": "7f1fcb62",
   "metadata": {},
   "outputs": [
    {
     "data": {
      "text/html": [
       "<div>\n",
       "<style scoped>\n",
       "    .dataframe tbody tr th:only-of-type {\n",
       "        vertical-align: middle;\n",
       "    }\n",
       "\n",
       "    .dataframe tbody tr th {\n",
       "        vertical-align: top;\n",
       "    }\n",
       "\n",
       "    .dataframe thead th {\n",
       "        text-align: right;\n",
       "    }\n",
       "</style>\n",
       "<table border=\"1\" class=\"dataframe\">\n",
       "  <thead>\n",
       "    <tr style=\"text-align: right;\">\n",
       "      <th></th>\n",
       "      <th>Name</th>\n",
       "      <th>Department</th>\n",
       "      <th>Salary</th>\n",
       "      <th>Working_Hours</th>\n",
       "    </tr>\n",
       "  </thead>\n",
       "  <tbody>\n",
       "    <tr>\n",
       "      <th>0</th>\n",
       "      <td>Mohit</td>\n",
       "      <td>Sales</td>\n",
       "      <td>20000</td>\n",
       "      <td>4</td>\n",
       "    </tr>\n",
       "    <tr>\n",
       "      <th>1</th>\n",
       "      <td>Rahul</td>\n",
       "      <td>Management</td>\n",
       "      <td>30000</td>\n",
       "      <td>5</td>\n",
       "    </tr>\n",
       "    <tr>\n",
       "      <th>2</th>\n",
       "      <td>Kriti</td>\n",
       "      <td>HR</td>\n",
       "      <td>32000</td>\n",
       "      <td>3</td>\n",
       "    </tr>\n",
       "    <tr>\n",
       "      <th>3</th>\n",
       "      <td>Purvi</td>\n",
       "      <td>HR</td>\n",
       "      <td>25000</td>\n",
       "      <td>4</td>\n",
       "    </tr>\n",
       "    <tr>\n",
       "      <th>4</th>\n",
       "      <td>Suman</td>\n",
       "      <td>Sales</td>\n",
       "      <td>15000</td>\n",
       "      <td>5</td>\n",
       "    </tr>\n",
       "    <tr>\n",
       "      <th>5</th>\n",
       "      <td>Akhshra</td>\n",
       "      <td>Management</td>\n",
       "      <td>35000</td>\n",
       "      <td>5</td>\n",
       "    </tr>\n",
       "  </tbody>\n",
       "</table>\n",
       "</div>"
      ],
      "text/plain": [
       "      Name  Department  Salary  Working_Hours\n",
       "0    Mohit       Sales   20000              4\n",
       "1    Rahul  Management   30000              5\n",
       "2    Kriti          HR   32000              3\n",
       "3    Purvi          HR   25000              4\n",
       "4    Suman       Sales   15000              5\n",
       "5  Akhshra  Management   35000              5"
      ]
     },
     "execution_count": 27,
     "metadata": {},
     "output_type": "execute_result"
    }
   ],
   "source": [
    "df"
   ]
  },
  {
   "cell_type": "code",
   "execution_count": 28,
   "id": "ce06fd61",
   "metadata": {},
   "outputs": [
    {
     "name": "stderr",
     "output_type": "stream",
     "text": [
      "C:\\Users\\saurabh\\AppData\\Local\\Temp\\ipykernel_12948\\2352628335.py:1: SettingWithCopyWarning: \n",
      "A value is trying to be set on a copy of a slice from a DataFrame\n",
      "\n",
      "See the caveats in the documentation: https://pandas.pydata.org/pandas-docs/stable/user_guide/indexing.html#returning-a-view-versus-a-copy\n",
      "  df['Name'][4] = 'Rohit'\n"
     ]
    }
   ],
   "source": [
    "df['Name'][4] = 'Rohit'"
   ]
  },
  {
   "cell_type": "code",
   "execution_count": 29,
   "id": "cdc6dce8",
   "metadata": {},
   "outputs": [
    {
     "data": {
      "text/html": [
       "<div>\n",
       "<style scoped>\n",
       "    .dataframe tbody tr th:only-of-type {\n",
       "        vertical-align: middle;\n",
       "    }\n",
       "\n",
       "    .dataframe tbody tr th {\n",
       "        vertical-align: top;\n",
       "    }\n",
       "\n",
       "    .dataframe thead th {\n",
       "        text-align: right;\n",
       "    }\n",
       "</style>\n",
       "<table border=\"1\" class=\"dataframe\">\n",
       "  <thead>\n",
       "    <tr style=\"text-align: right;\">\n",
       "      <th></th>\n",
       "      <th>Name</th>\n",
       "      <th>Department</th>\n",
       "      <th>Salary</th>\n",
       "      <th>Working_Hours</th>\n",
       "    </tr>\n",
       "  </thead>\n",
       "  <tbody>\n",
       "    <tr>\n",
       "      <th>0</th>\n",
       "      <td>Mohit</td>\n",
       "      <td>Sales</td>\n",
       "      <td>20000</td>\n",
       "      <td>4</td>\n",
       "    </tr>\n",
       "    <tr>\n",
       "      <th>1</th>\n",
       "      <td>Rahul</td>\n",
       "      <td>Management</td>\n",
       "      <td>30000</td>\n",
       "      <td>5</td>\n",
       "    </tr>\n",
       "    <tr>\n",
       "      <th>2</th>\n",
       "      <td>Kriti</td>\n",
       "      <td>HR</td>\n",
       "      <td>32000</td>\n",
       "      <td>3</td>\n",
       "    </tr>\n",
       "    <tr>\n",
       "      <th>3</th>\n",
       "      <td>Purvi</td>\n",
       "      <td>HR</td>\n",
       "      <td>25000</td>\n",
       "      <td>4</td>\n",
       "    </tr>\n",
       "    <tr>\n",
       "      <th>4</th>\n",
       "      <td>Rohit</td>\n",
       "      <td>Sales</td>\n",
       "      <td>15000</td>\n",
       "      <td>5</td>\n",
       "    </tr>\n",
       "    <tr>\n",
       "      <th>5</th>\n",
       "      <td>Akhshra</td>\n",
       "      <td>Management</td>\n",
       "      <td>35000</td>\n",
       "      <td>5</td>\n",
       "    </tr>\n",
       "  </tbody>\n",
       "</table>\n",
       "</div>"
      ],
      "text/plain": [
       "      Name  Department  Salary  Working_Hours\n",
       "0    Mohit       Sales   20000              4\n",
       "1    Rahul  Management   30000              5\n",
       "2    Kriti          HR   32000              3\n",
       "3    Purvi          HR   25000              4\n",
       "4    Rohit       Sales   15000              5\n",
       "5  Akhshra  Management   35000              5"
      ]
     },
     "execution_count": 29,
     "metadata": {},
     "output_type": "execute_result"
    }
   ],
   "source": [
    "df"
   ]
  },
  {
   "cell_type": "code",
   "execution_count": 30,
   "id": "2a0baa05",
   "metadata": {},
   "outputs": [],
   "source": [
    "# Rahul ==> Rubi , Akshshra department ==> Sales  , Purvi  working hours = 5 ? "
   ]
  },
  {
   "cell_type": "code",
   "execution_count": 31,
   "id": "e1039104",
   "metadata": {},
   "outputs": [],
   "source": [
    "df1 = df.copy() "
   ]
  },
  {
   "cell_type": "code",
   "execution_count": 32,
   "id": "599082da",
   "metadata": {},
   "outputs": [
    {
     "data": {
      "text/html": [
       "<div>\n",
       "<style scoped>\n",
       "    .dataframe tbody tr th:only-of-type {\n",
       "        vertical-align: middle;\n",
       "    }\n",
       "\n",
       "    .dataframe tbody tr th {\n",
       "        vertical-align: top;\n",
       "    }\n",
       "\n",
       "    .dataframe thead th {\n",
       "        text-align: right;\n",
       "    }\n",
       "</style>\n",
       "<table border=\"1\" class=\"dataframe\">\n",
       "  <thead>\n",
       "    <tr style=\"text-align: right;\">\n",
       "      <th></th>\n",
       "      <th>Name</th>\n",
       "      <th>Department</th>\n",
       "      <th>Salary</th>\n",
       "      <th>Working_Hours</th>\n",
       "    </tr>\n",
       "  </thead>\n",
       "  <tbody>\n",
       "    <tr>\n",
       "      <th>0</th>\n",
       "      <td>Mohit</td>\n",
       "      <td>Sales</td>\n",
       "      <td>20000</td>\n",
       "      <td>4</td>\n",
       "    </tr>\n",
       "    <tr>\n",
       "      <th>1</th>\n",
       "      <td>Rahul</td>\n",
       "      <td>Management</td>\n",
       "      <td>30000</td>\n",
       "      <td>5</td>\n",
       "    </tr>\n",
       "    <tr>\n",
       "      <th>2</th>\n",
       "      <td>Kriti</td>\n",
       "      <td>HR</td>\n",
       "      <td>32000</td>\n",
       "      <td>3</td>\n",
       "    </tr>\n",
       "    <tr>\n",
       "      <th>3</th>\n",
       "      <td>Purvi</td>\n",
       "      <td>HR</td>\n",
       "      <td>25000</td>\n",
       "      <td>4</td>\n",
       "    </tr>\n",
       "    <tr>\n",
       "      <th>4</th>\n",
       "      <td>Rohit</td>\n",
       "      <td>Sales</td>\n",
       "      <td>15000</td>\n",
       "      <td>5</td>\n",
       "    </tr>\n",
       "    <tr>\n",
       "      <th>5</th>\n",
       "      <td>Akhshra</td>\n",
       "      <td>Management</td>\n",
       "      <td>35000</td>\n",
       "      <td>5</td>\n",
       "    </tr>\n",
       "  </tbody>\n",
       "</table>\n",
       "</div>"
      ],
      "text/plain": [
       "      Name  Department  Salary  Working_Hours\n",
       "0    Mohit       Sales   20000              4\n",
       "1    Rahul  Management   30000              5\n",
       "2    Kriti          HR   32000              3\n",
       "3    Purvi          HR   25000              4\n",
       "4    Rohit       Sales   15000              5\n",
       "5  Akhshra  Management   35000              5"
      ]
     },
     "execution_count": 32,
     "metadata": {},
     "output_type": "execute_result"
    }
   ],
   "source": [
    "df1"
   ]
  },
  {
   "cell_type": "code",
   "execution_count": 33,
   "id": "8877842e",
   "metadata": {},
   "outputs": [
    {
     "data": {
      "text/plain": [
       "Name             object\n",
       "Department       object\n",
       "Salary            int64\n",
       "Working_Hours     int64\n",
       "dtype: object"
      ]
     },
     "execution_count": 33,
     "metadata": {},
     "output_type": "execute_result"
    }
   ],
   "source": [
    "df.dtypes"
   ]
  },
  {
   "cell_type": "markdown",
   "id": "b15b10fd",
   "metadata": {},
   "source": [
    "# Pandas Data Structure : \n",
    "#     1. Series  \n",
    "#     2. DataFrame "
   ]
  },
  {
   "cell_type": "markdown",
   "id": "2826ac7f",
   "metadata": {},
   "source": [
    "# 1. Series ==> It is one dimensional array with indexes . It stores a single column or row of data . "
   ]
  },
  {
   "cell_type": "code",
   "execution_count": 34,
   "id": "33e2a5be",
   "metadata": {},
   "outputs": [
    {
     "data": {
      "text/plain": [
       "0    1\n",
       "1    2\n",
       "2    3\n",
       "3    4\n",
       "dtype: int32"
      ]
     },
     "execution_count": 34,
     "metadata": {},
     "output_type": "execute_result"
    }
   ],
   "source": [
    "import numpy as np \n",
    "p = np.arange(1,5)\n",
    "a = pd.Series(p)\n",
    "a"
   ]
  },
  {
   "cell_type": "code",
   "execution_count": 35,
   "id": "08d1cd77",
   "metadata": {},
   "outputs": [
    {
     "data": {
      "text/plain": [
       "pandas.core.series.Series"
      ]
     },
     "execution_count": 35,
     "metadata": {},
     "output_type": "execute_result"
    }
   ],
   "source": [
    "type(a)"
   ]
  },
  {
   "cell_type": "code",
   "execution_count": 36,
   "id": "bb8790d1",
   "metadata": {},
   "outputs": [
    {
     "data": {
      "text/html": [
       "<div>\n",
       "<style scoped>\n",
       "    .dataframe tbody tr th:only-of-type {\n",
       "        vertical-align: middle;\n",
       "    }\n",
       "\n",
       "    .dataframe tbody tr th {\n",
       "        vertical-align: top;\n",
       "    }\n",
       "\n",
       "    .dataframe thead th {\n",
       "        text-align: right;\n",
       "    }\n",
       "</style>\n",
       "<table border=\"1\" class=\"dataframe\">\n",
       "  <thead>\n",
       "    <tr style=\"text-align: right;\">\n",
       "      <th></th>\n",
       "      <th>0</th>\n",
       "      <th>1</th>\n",
       "      <th>2</th>\n",
       "      <th>3</th>\n",
       "      <th>4</th>\n",
       "      <th>5</th>\n",
       "    </tr>\n",
       "  </thead>\n",
       "  <tbody>\n",
       "    <tr>\n",
       "      <th>0</th>\n",
       "      <td>0.011077</td>\n",
       "      <td>0.755378</td>\n",
       "      <td>0.440871</td>\n",
       "      <td>0.709036</td>\n",
       "      <td>0.363501</td>\n",
       "      <td>0.333562</td>\n",
       "    </tr>\n",
       "    <tr>\n",
       "      <th>1</th>\n",
       "      <td>0.741911</td>\n",
       "      <td>0.243085</td>\n",
       "      <td>0.157460</td>\n",
       "      <td>0.240039</td>\n",
       "      <td>0.844708</td>\n",
       "      <td>0.706317</td>\n",
       "    </tr>\n",
       "    <tr>\n",
       "      <th>2</th>\n",
       "      <td>0.063769</td>\n",
       "      <td>0.662591</td>\n",
       "      <td>0.845647</td>\n",
       "      <td>0.943397</td>\n",
       "      <td>0.868501</td>\n",
       "      <td>0.071915</td>\n",
       "    </tr>\n",
       "    <tr>\n",
       "      <th>3</th>\n",
       "      <td>0.418957</td>\n",
       "      <td>0.716396</td>\n",
       "      <td>0.030687</td>\n",
       "      <td>0.992601</td>\n",
       "      <td>0.136312</td>\n",
       "      <td>0.705159</td>\n",
       "    </tr>\n",
       "    <tr>\n",
       "      <th>4</th>\n",
       "      <td>0.067584</td>\n",
       "      <td>0.693073</td>\n",
       "      <td>0.053416</td>\n",
       "      <td>0.179815</td>\n",
       "      <td>0.652338</td>\n",
       "      <td>0.281197</td>\n",
       "    </tr>\n",
       "    <tr>\n",
       "      <th>...</th>\n",
       "      <td>...</td>\n",
       "      <td>...</td>\n",
       "      <td>...</td>\n",
       "      <td>...</td>\n",
       "      <td>...</td>\n",
       "      <td>...</td>\n",
       "    </tr>\n",
       "    <tr>\n",
       "      <th>95</th>\n",
       "      <td>0.615462</td>\n",
       "      <td>0.082807</td>\n",
       "      <td>0.336596</td>\n",
       "      <td>0.571337</td>\n",
       "      <td>0.971046</td>\n",
       "      <td>0.459167</td>\n",
       "    </tr>\n",
       "    <tr>\n",
       "      <th>96</th>\n",
       "      <td>0.975706</td>\n",
       "      <td>0.853596</td>\n",
       "      <td>0.366292</td>\n",
       "      <td>0.742877</td>\n",
       "      <td>0.685941</td>\n",
       "      <td>0.257141</td>\n",
       "    </tr>\n",
       "    <tr>\n",
       "      <th>97</th>\n",
       "      <td>0.768835</td>\n",
       "      <td>0.673324</td>\n",
       "      <td>0.871378</td>\n",
       "      <td>0.790940</td>\n",
       "      <td>0.581044</td>\n",
       "      <td>0.714965</td>\n",
       "    </tr>\n",
       "    <tr>\n",
       "      <th>98</th>\n",
       "      <td>0.096560</td>\n",
       "      <td>0.286868</td>\n",
       "      <td>0.211082</td>\n",
       "      <td>0.772618</td>\n",
       "      <td>0.356853</td>\n",
       "      <td>0.630120</td>\n",
       "    </tr>\n",
       "    <tr>\n",
       "      <th>99</th>\n",
       "      <td>0.879020</td>\n",
       "      <td>0.501498</td>\n",
       "      <td>0.108223</td>\n",
       "      <td>0.338277</td>\n",
       "      <td>0.003967</td>\n",
       "      <td>0.324762</td>\n",
       "    </tr>\n",
       "  </tbody>\n",
       "</table>\n",
       "<p>100 rows × 6 columns</p>\n",
       "</div>"
      ],
      "text/plain": [
       "           0         1         2         3         4         5\n",
       "0   0.011077  0.755378  0.440871  0.709036  0.363501  0.333562\n",
       "1   0.741911  0.243085  0.157460  0.240039  0.844708  0.706317\n",
       "2   0.063769  0.662591  0.845647  0.943397  0.868501  0.071915\n",
       "3   0.418957  0.716396  0.030687  0.992601  0.136312  0.705159\n",
       "4   0.067584  0.693073  0.053416  0.179815  0.652338  0.281197\n",
       "..       ...       ...       ...       ...       ...       ...\n",
       "95  0.615462  0.082807  0.336596  0.571337  0.971046  0.459167\n",
       "96  0.975706  0.853596  0.366292  0.742877  0.685941  0.257141\n",
       "97  0.768835  0.673324  0.871378  0.790940  0.581044  0.714965\n",
       "98  0.096560  0.286868  0.211082  0.772618  0.356853  0.630120\n",
       "99  0.879020  0.501498  0.108223  0.338277  0.003967  0.324762\n",
       "\n",
       "[100 rows x 6 columns]"
      ]
     },
     "execution_count": 36,
     "metadata": {},
     "output_type": "execute_result"
    }
   ],
   "source": [
    "# 2. Data Frame ==> It is like a tabular spreadsheet structure and it has one and multi-dimensional data . \n",
    "\n",
    "d = pd.DataFrame(np.random.rand(100,6))\n",
    "d"
   ]
  },
  {
   "cell_type": "code",
   "execution_count": 37,
   "id": "c9517bbc",
   "metadata": {},
   "outputs": [
    {
     "data": {
      "text/plain": [
       "pandas.core.frame.DataFrame"
      ]
     },
     "execution_count": 37,
     "metadata": {},
     "output_type": "execute_result"
    }
   ],
   "source": [
    "type(d)"
   ]
  },
  {
   "cell_type": "code",
   "execution_count": 38,
   "id": "1726f819",
   "metadata": {},
   "outputs": [],
   "source": [
    "d.columns = list(\"ABCDEF\")  # how to rename a dataframe "
   ]
  },
  {
   "cell_type": "code",
   "execution_count": 39,
   "id": "bfa0eca6",
   "metadata": {},
   "outputs": [],
   "source": [
    "df = d "
   ]
  },
  {
   "cell_type": "code",
   "execution_count": 40,
   "id": "301977b2",
   "metadata": {},
   "outputs": [
    {
     "data": {
      "text/html": [
       "<div>\n",
       "<style scoped>\n",
       "    .dataframe tbody tr th:only-of-type {\n",
       "        vertical-align: middle;\n",
       "    }\n",
       "\n",
       "    .dataframe tbody tr th {\n",
       "        vertical-align: top;\n",
       "    }\n",
       "\n",
       "    .dataframe thead th {\n",
       "        text-align: right;\n",
       "    }\n",
       "</style>\n",
       "<table border=\"1\" class=\"dataframe\">\n",
       "  <thead>\n",
       "    <tr style=\"text-align: right;\">\n",
       "      <th></th>\n",
       "      <th>A</th>\n",
       "      <th>B</th>\n",
       "      <th>C</th>\n",
       "      <th>D</th>\n",
       "      <th>E</th>\n",
       "      <th>F</th>\n",
       "    </tr>\n",
       "  </thead>\n",
       "  <tbody>\n",
       "    <tr>\n",
       "      <th>0</th>\n",
       "      <td>0.011077</td>\n",
       "      <td>0.755378</td>\n",
       "      <td>0.440871</td>\n",
       "      <td>0.709036</td>\n",
       "      <td>0.363501</td>\n",
       "      <td>0.333562</td>\n",
       "    </tr>\n",
       "    <tr>\n",
       "      <th>1</th>\n",
       "      <td>0.741911</td>\n",
       "      <td>0.243085</td>\n",
       "      <td>0.157460</td>\n",
       "      <td>0.240039</td>\n",
       "      <td>0.844708</td>\n",
       "      <td>0.706317</td>\n",
       "    </tr>\n",
       "    <tr>\n",
       "      <th>2</th>\n",
       "      <td>0.063769</td>\n",
       "      <td>0.662591</td>\n",
       "      <td>0.845647</td>\n",
       "      <td>0.943397</td>\n",
       "      <td>0.868501</td>\n",
       "      <td>0.071915</td>\n",
       "    </tr>\n",
       "    <tr>\n",
       "      <th>3</th>\n",
       "      <td>0.418957</td>\n",
       "      <td>0.716396</td>\n",
       "      <td>0.030687</td>\n",
       "      <td>0.992601</td>\n",
       "      <td>0.136312</td>\n",
       "      <td>0.705159</td>\n",
       "    </tr>\n",
       "    <tr>\n",
       "      <th>4</th>\n",
       "      <td>0.067584</td>\n",
       "      <td>0.693073</td>\n",
       "      <td>0.053416</td>\n",
       "      <td>0.179815</td>\n",
       "      <td>0.652338</td>\n",
       "      <td>0.281197</td>\n",
       "    </tr>\n",
       "    <tr>\n",
       "      <th>...</th>\n",
       "      <td>...</td>\n",
       "      <td>...</td>\n",
       "      <td>...</td>\n",
       "      <td>...</td>\n",
       "      <td>...</td>\n",
       "      <td>...</td>\n",
       "    </tr>\n",
       "    <tr>\n",
       "      <th>95</th>\n",
       "      <td>0.615462</td>\n",
       "      <td>0.082807</td>\n",
       "      <td>0.336596</td>\n",
       "      <td>0.571337</td>\n",
       "      <td>0.971046</td>\n",
       "      <td>0.459167</td>\n",
       "    </tr>\n",
       "    <tr>\n",
       "      <th>96</th>\n",
       "      <td>0.975706</td>\n",
       "      <td>0.853596</td>\n",
       "      <td>0.366292</td>\n",
       "      <td>0.742877</td>\n",
       "      <td>0.685941</td>\n",
       "      <td>0.257141</td>\n",
       "    </tr>\n",
       "    <tr>\n",
       "      <th>97</th>\n",
       "      <td>0.768835</td>\n",
       "      <td>0.673324</td>\n",
       "      <td>0.871378</td>\n",
       "      <td>0.790940</td>\n",
       "      <td>0.581044</td>\n",
       "      <td>0.714965</td>\n",
       "    </tr>\n",
       "    <tr>\n",
       "      <th>98</th>\n",
       "      <td>0.096560</td>\n",
       "      <td>0.286868</td>\n",
       "      <td>0.211082</td>\n",
       "      <td>0.772618</td>\n",
       "      <td>0.356853</td>\n",
       "      <td>0.630120</td>\n",
       "    </tr>\n",
       "    <tr>\n",
       "      <th>99</th>\n",
       "      <td>0.879020</td>\n",
       "      <td>0.501498</td>\n",
       "      <td>0.108223</td>\n",
       "      <td>0.338277</td>\n",
       "      <td>0.003967</td>\n",
       "      <td>0.324762</td>\n",
       "    </tr>\n",
       "  </tbody>\n",
       "</table>\n",
       "<p>100 rows × 6 columns</p>\n",
       "</div>"
      ],
      "text/plain": [
       "           A         B         C         D         E         F\n",
       "0   0.011077  0.755378  0.440871  0.709036  0.363501  0.333562\n",
       "1   0.741911  0.243085  0.157460  0.240039  0.844708  0.706317\n",
       "2   0.063769  0.662591  0.845647  0.943397  0.868501  0.071915\n",
       "3   0.418957  0.716396  0.030687  0.992601  0.136312  0.705159\n",
       "4   0.067584  0.693073  0.053416  0.179815  0.652338  0.281197\n",
       "..       ...       ...       ...       ...       ...       ...\n",
       "95  0.615462  0.082807  0.336596  0.571337  0.971046  0.459167\n",
       "96  0.975706  0.853596  0.366292  0.742877  0.685941  0.257141\n",
       "97  0.768835  0.673324  0.871378  0.790940  0.581044  0.714965\n",
       "98  0.096560  0.286868  0.211082  0.772618  0.356853  0.630120\n",
       "99  0.879020  0.501498  0.108223  0.338277  0.003967  0.324762\n",
       "\n",
       "[100 rows x 6 columns]"
      ]
     },
     "execution_count": 40,
     "metadata": {},
     "output_type": "execute_result"
    }
   ],
   "source": [
    "df"
   ]
  },
  {
   "cell_type": "code",
   "execution_count": 41,
   "id": "0b275e6d",
   "metadata": {},
   "outputs": [
    {
     "data": {
      "text/html": [
       "<div>\n",
       "<style scoped>\n",
       "    .dataframe tbody tr th:only-of-type {\n",
       "        vertical-align: middle;\n",
       "    }\n",
       "\n",
       "    .dataframe tbody tr th {\n",
       "        vertical-align: top;\n",
       "    }\n",
       "\n",
       "    .dataframe thead th {\n",
       "        text-align: right;\n",
       "    }\n",
       "</style>\n",
       "<table border=\"1\" class=\"dataframe\">\n",
       "  <thead>\n",
       "    <tr style=\"text-align: right;\">\n",
       "      <th></th>\n",
       "      <th>A</th>\n",
       "      <th>B</th>\n",
       "      <th>C</th>\n",
       "      <th>D</th>\n",
       "      <th>E</th>\n",
       "      <th>F</th>\n",
       "    </tr>\n",
       "  </thead>\n",
       "  <tbody>\n",
       "    <tr>\n",
       "      <th>count</th>\n",
       "      <td>100.000000</td>\n",
       "      <td>100.000000</td>\n",
       "      <td>100.000000</td>\n",
       "      <td>100.000000</td>\n",
       "      <td>100.000000</td>\n",
       "      <td>100.000000</td>\n",
       "    </tr>\n",
       "    <tr>\n",
       "      <th>mean</th>\n",
       "      <td>0.444032</td>\n",
       "      <td>0.532465</td>\n",
       "      <td>0.483465</td>\n",
       "      <td>0.484482</td>\n",
       "      <td>0.478083</td>\n",
       "      <td>0.533918</td>\n",
       "    </tr>\n",
       "    <tr>\n",
       "      <th>std</th>\n",
       "      <td>0.286428</td>\n",
       "      <td>0.303164</td>\n",
       "      <td>0.300273</td>\n",
       "      <td>0.298187</td>\n",
       "      <td>0.304781</td>\n",
       "      <td>0.280716</td>\n",
       "    </tr>\n",
       "    <tr>\n",
       "      <th>min</th>\n",
       "      <td>0.005763</td>\n",
       "      <td>0.025047</td>\n",
       "      <td>0.007765</td>\n",
       "      <td>0.001526</td>\n",
       "      <td>0.003967</td>\n",
       "      <td>0.004910</td>\n",
       "    </tr>\n",
       "    <tr>\n",
       "      <th>25%</th>\n",
       "      <td>0.205411</td>\n",
       "      <td>0.275922</td>\n",
       "      <td>0.207228</td>\n",
       "      <td>0.195131</td>\n",
       "      <td>0.196655</td>\n",
       "      <td>0.308653</td>\n",
       "    </tr>\n",
       "    <tr>\n",
       "      <th>50%</th>\n",
       "      <td>0.430407</td>\n",
       "      <td>0.523013</td>\n",
       "      <td>0.479734</td>\n",
       "      <td>0.483455</td>\n",
       "      <td>0.499811</td>\n",
       "      <td>0.566137</td>\n",
       "    </tr>\n",
       "    <tr>\n",
       "      <th>75%</th>\n",
       "      <td>0.661489</td>\n",
       "      <td>0.820209</td>\n",
       "      <td>0.792996</td>\n",
       "      <td>0.743976</td>\n",
       "      <td>0.740545</td>\n",
       "      <td>0.742687</td>\n",
       "    </tr>\n",
       "    <tr>\n",
       "      <th>max</th>\n",
       "      <td>0.979393</td>\n",
       "      <td>0.995558</td>\n",
       "      <td>0.971355</td>\n",
       "      <td>0.998288</td>\n",
       "      <td>0.992212</td>\n",
       "      <td>0.989040</td>\n",
       "    </tr>\n",
       "  </tbody>\n",
       "</table>\n",
       "</div>"
      ],
      "text/plain": [
       "                A           B           C           D           E           F\n",
       "count  100.000000  100.000000  100.000000  100.000000  100.000000  100.000000\n",
       "mean     0.444032    0.532465    0.483465    0.484482    0.478083    0.533918\n",
       "std      0.286428    0.303164    0.300273    0.298187    0.304781    0.280716\n",
       "min      0.005763    0.025047    0.007765    0.001526    0.003967    0.004910\n",
       "25%      0.205411    0.275922    0.207228    0.195131    0.196655    0.308653\n",
       "50%      0.430407    0.523013    0.479734    0.483455    0.499811    0.566137\n",
       "75%      0.661489    0.820209    0.792996    0.743976    0.740545    0.742687\n",
       "max      0.979393    0.995558    0.971355    0.998288    0.992212    0.989040"
      ]
     },
     "execution_count": 41,
     "metadata": {},
     "output_type": "execute_result"
    }
   ],
   "source": [
    "df.describe() "
   ]
  },
  {
   "cell_type": "code",
   "execution_count": 42,
   "id": "358ef05e",
   "metadata": {},
   "outputs": [
    {
     "data": {
      "text/html": [
       "<div>\n",
       "<style scoped>\n",
       "    .dataframe tbody tr th:only-of-type {\n",
       "        vertical-align: middle;\n",
       "    }\n",
       "\n",
       "    .dataframe tbody tr th {\n",
       "        vertical-align: top;\n",
       "    }\n",
       "\n",
       "    .dataframe thead th {\n",
       "        text-align: right;\n",
       "    }\n",
       "</style>\n",
       "<table border=\"1\" class=\"dataframe\">\n",
       "  <thead>\n",
       "    <tr style=\"text-align: right;\">\n",
       "      <th></th>\n",
       "      <th>A</th>\n",
       "      <th>B</th>\n",
       "      <th>C</th>\n",
       "      <th>D</th>\n",
       "      <th>E</th>\n",
       "      <th>F</th>\n",
       "    </tr>\n",
       "  </thead>\n",
       "  <tbody>\n",
       "    <tr>\n",
       "      <th>0</th>\n",
       "      <td>0.011077</td>\n",
       "      <td>0.755378</td>\n",
       "      <td>0.440871</td>\n",
       "      <td>0.709036</td>\n",
       "      <td>0.363501</td>\n",
       "      <td>0.333562</td>\n",
       "    </tr>\n",
       "    <tr>\n",
       "      <th>1</th>\n",
       "      <td>0.741911</td>\n",
       "      <td>0.243085</td>\n",
       "      <td>0.157460</td>\n",
       "      <td>0.240039</td>\n",
       "      <td>0.844708</td>\n",
       "      <td>0.706317</td>\n",
       "    </tr>\n",
       "    <tr>\n",
       "      <th>2</th>\n",
       "      <td>0.063769</td>\n",
       "      <td>0.662591</td>\n",
       "      <td>0.845647</td>\n",
       "      <td>0.943397</td>\n",
       "      <td>0.868501</td>\n",
       "      <td>0.071915</td>\n",
       "    </tr>\n",
       "    <tr>\n",
       "      <th>3</th>\n",
       "      <td>0.418957</td>\n",
       "      <td>0.716396</td>\n",
       "      <td>0.030687</td>\n",
       "      <td>0.992601</td>\n",
       "      <td>0.136312</td>\n",
       "      <td>0.705159</td>\n",
       "    </tr>\n",
       "    <tr>\n",
       "      <th>4</th>\n",
       "      <td>0.067584</td>\n",
       "      <td>0.693073</td>\n",
       "      <td>0.053416</td>\n",
       "      <td>0.179815</td>\n",
       "      <td>0.652338</td>\n",
       "      <td>0.281197</td>\n",
       "    </tr>\n",
       "  </tbody>\n",
       "</table>\n",
       "</div>"
      ],
      "text/plain": [
       "          A         B         C         D         E         F\n",
       "0  0.011077  0.755378  0.440871  0.709036  0.363501  0.333562\n",
       "1  0.741911  0.243085  0.157460  0.240039  0.844708  0.706317\n",
       "2  0.063769  0.662591  0.845647  0.943397  0.868501  0.071915\n",
       "3  0.418957  0.716396  0.030687  0.992601  0.136312  0.705159\n",
       "4  0.067584  0.693073  0.053416  0.179815  0.652338  0.281197"
      ]
     },
     "execution_count": 42,
     "metadata": {},
     "output_type": "execute_result"
    }
   ],
   "source": [
    "# top 5 data \n",
    "df.head() "
   ]
  },
  {
   "cell_type": "code",
   "execution_count": 43,
   "id": "29c7796b",
   "metadata": {},
   "outputs": [
    {
     "data": {
      "text/html": [
       "<div>\n",
       "<style scoped>\n",
       "    .dataframe tbody tr th:only-of-type {\n",
       "        vertical-align: middle;\n",
       "    }\n",
       "\n",
       "    .dataframe tbody tr th {\n",
       "        vertical-align: top;\n",
       "    }\n",
       "\n",
       "    .dataframe thead th {\n",
       "        text-align: right;\n",
       "    }\n",
       "</style>\n",
       "<table border=\"1\" class=\"dataframe\">\n",
       "  <thead>\n",
       "    <tr style=\"text-align: right;\">\n",
       "      <th></th>\n",
       "      <th>A</th>\n",
       "      <th>B</th>\n",
       "      <th>C</th>\n",
       "      <th>D</th>\n",
       "      <th>E</th>\n",
       "      <th>F</th>\n",
       "    </tr>\n",
       "  </thead>\n",
       "  <tbody>\n",
       "    <tr>\n",
       "      <th>95</th>\n",
       "      <td>0.615462</td>\n",
       "      <td>0.082807</td>\n",
       "      <td>0.336596</td>\n",
       "      <td>0.571337</td>\n",
       "      <td>0.971046</td>\n",
       "      <td>0.459167</td>\n",
       "    </tr>\n",
       "    <tr>\n",
       "      <th>96</th>\n",
       "      <td>0.975706</td>\n",
       "      <td>0.853596</td>\n",
       "      <td>0.366292</td>\n",
       "      <td>0.742877</td>\n",
       "      <td>0.685941</td>\n",
       "      <td>0.257141</td>\n",
       "    </tr>\n",
       "    <tr>\n",
       "      <th>97</th>\n",
       "      <td>0.768835</td>\n",
       "      <td>0.673324</td>\n",
       "      <td>0.871378</td>\n",
       "      <td>0.790940</td>\n",
       "      <td>0.581044</td>\n",
       "      <td>0.714965</td>\n",
       "    </tr>\n",
       "    <tr>\n",
       "      <th>98</th>\n",
       "      <td>0.096560</td>\n",
       "      <td>0.286868</td>\n",
       "      <td>0.211082</td>\n",
       "      <td>0.772618</td>\n",
       "      <td>0.356853</td>\n",
       "      <td>0.630120</td>\n",
       "    </tr>\n",
       "    <tr>\n",
       "      <th>99</th>\n",
       "      <td>0.879020</td>\n",
       "      <td>0.501498</td>\n",
       "      <td>0.108223</td>\n",
       "      <td>0.338277</td>\n",
       "      <td>0.003967</td>\n",
       "      <td>0.324762</td>\n",
       "    </tr>\n",
       "  </tbody>\n",
       "</table>\n",
       "</div>"
      ],
      "text/plain": [
       "           A         B         C         D         E         F\n",
       "95  0.615462  0.082807  0.336596  0.571337  0.971046  0.459167\n",
       "96  0.975706  0.853596  0.366292  0.742877  0.685941  0.257141\n",
       "97  0.768835  0.673324  0.871378  0.790940  0.581044  0.714965\n",
       "98  0.096560  0.286868  0.211082  0.772618  0.356853  0.630120\n",
       "99  0.879020  0.501498  0.108223  0.338277  0.003967  0.324762"
      ]
     },
     "execution_count": 43,
     "metadata": {},
     "output_type": "execute_result"
    }
   ],
   "source": [
    "# bottom 5 data \n",
    "df.tail()"
   ]
  },
  {
   "cell_type": "code",
   "execution_count": 44,
   "id": "05017c90",
   "metadata": {},
   "outputs": [],
   "source": [
    "df['A'][1] = 55555"
   ]
  },
  {
   "cell_type": "code",
   "execution_count": 45,
   "id": "1a812cb2",
   "metadata": {},
   "outputs": [
    {
     "data": {
      "text/html": [
       "<div>\n",
       "<style scoped>\n",
       "    .dataframe tbody tr th:only-of-type {\n",
       "        vertical-align: middle;\n",
       "    }\n",
       "\n",
       "    .dataframe tbody tr th {\n",
       "        vertical-align: top;\n",
       "    }\n",
       "\n",
       "    .dataframe thead th {\n",
       "        text-align: right;\n",
       "    }\n",
       "</style>\n",
       "<table border=\"1\" class=\"dataframe\">\n",
       "  <thead>\n",
       "    <tr style=\"text-align: right;\">\n",
       "      <th></th>\n",
       "      <th>A</th>\n",
       "      <th>B</th>\n",
       "      <th>C</th>\n",
       "      <th>D</th>\n",
       "      <th>E</th>\n",
       "      <th>F</th>\n",
       "    </tr>\n",
       "  </thead>\n",
       "  <tbody>\n",
       "    <tr>\n",
       "      <th>0</th>\n",
       "      <td>0.011077</td>\n",
       "      <td>0.755378</td>\n",
       "      <td>0.440871</td>\n",
       "      <td>0.709036</td>\n",
       "      <td>0.363501</td>\n",
       "      <td>0.333562</td>\n",
       "    </tr>\n",
       "    <tr>\n",
       "      <th>1</th>\n",
       "      <td>55555.000000</td>\n",
       "      <td>0.243085</td>\n",
       "      <td>0.157460</td>\n",
       "      <td>0.240039</td>\n",
       "      <td>0.844708</td>\n",
       "      <td>0.706317</td>\n",
       "    </tr>\n",
       "  </tbody>\n",
       "</table>\n",
       "</div>"
      ],
      "text/plain": [
       "              A         B         C         D         E         F\n",
       "0      0.011077  0.755378  0.440871  0.709036  0.363501  0.333562\n",
       "1  55555.000000  0.243085  0.157460  0.240039  0.844708  0.706317"
      ]
     },
     "execution_count": 45,
     "metadata": {},
     "output_type": "execute_result"
    }
   ],
   "source": [
    "df.head(2)"
   ]
  },
  {
   "cell_type": "code",
   "execution_count": 46,
   "id": "17923c10",
   "metadata": {},
   "outputs": [
    {
     "data": {
      "text/plain": [
       "A    float64\n",
       "B    float64\n",
       "C    float64\n",
       "D    float64\n",
       "E    float64\n",
       "F    float64\n",
       "dtype: object"
      ]
     },
     "execution_count": 46,
     "metadata": {},
     "output_type": "execute_result"
    }
   ],
   "source": [
    "df.dtypes"
   ]
  },
  {
   "cell_type": "code",
   "execution_count": 47,
   "id": "c843b0c3",
   "metadata": {},
   "outputs": [
    {
     "data": {
      "text/plain": [
       "RangeIndex(start=0, stop=100, step=1)"
      ]
     },
     "execution_count": 47,
     "metadata": {},
     "output_type": "execute_result"
    }
   ],
   "source": [
    "df.index"
   ]
  },
  {
   "cell_type": "code",
   "execution_count": 48,
   "id": "fcc8df40",
   "metadata": {},
   "outputs": [],
   "source": [
    "a = {\n",
    "    \"Name\" : ['Mohit' , 'Rahul' , 'Kriti' , 'Purvi' , 'Suman' , 'Akhshra'],\n",
    "    \"Department\":['Sales','Management','HR','HR','Sales','Management'] ,\n",
    "    \"Salary\" : [20000,30000,40000,25000,15000,35000]\n",
    "}"
   ]
  },
  {
   "cell_type": "code",
   "execution_count": 50,
   "id": "ac503c94",
   "metadata": {},
   "outputs": [],
   "source": [
    "df = pd.DataFrame(a) \n",
    "df['working_hours'] = [5,5,4,3,2,5]"
   ]
  },
  {
   "cell_type": "code",
   "execution_count": 51,
   "id": "c22aadc0",
   "metadata": {},
   "outputs": [
    {
     "data": {
      "text/html": [
       "<div>\n",
       "<style scoped>\n",
       "    .dataframe tbody tr th:only-of-type {\n",
       "        vertical-align: middle;\n",
       "    }\n",
       "\n",
       "    .dataframe tbody tr th {\n",
       "        vertical-align: top;\n",
       "    }\n",
       "\n",
       "    .dataframe thead th {\n",
       "        text-align: right;\n",
       "    }\n",
       "</style>\n",
       "<table border=\"1\" class=\"dataframe\">\n",
       "  <thead>\n",
       "    <tr style=\"text-align: right;\">\n",
       "      <th></th>\n",
       "      <th>Name</th>\n",
       "      <th>Department</th>\n",
       "      <th>Salary</th>\n",
       "      <th>working_hours</th>\n",
       "    </tr>\n",
       "  </thead>\n",
       "  <tbody>\n",
       "    <tr>\n",
       "      <th>0</th>\n",
       "      <td>Mohit</td>\n",
       "      <td>Sales</td>\n",
       "      <td>20000</td>\n",
       "      <td>5</td>\n",
       "    </tr>\n",
       "    <tr>\n",
       "      <th>1</th>\n",
       "      <td>Rahul</td>\n",
       "      <td>Management</td>\n",
       "      <td>30000</td>\n",
       "      <td>5</td>\n",
       "    </tr>\n",
       "    <tr>\n",
       "      <th>2</th>\n",
       "      <td>Kriti</td>\n",
       "      <td>HR</td>\n",
       "      <td>40000</td>\n",
       "      <td>4</td>\n",
       "    </tr>\n",
       "    <tr>\n",
       "      <th>3</th>\n",
       "      <td>Purvi</td>\n",
       "      <td>HR</td>\n",
       "      <td>25000</td>\n",
       "      <td>3</td>\n",
       "    </tr>\n",
       "    <tr>\n",
       "      <th>4</th>\n",
       "      <td>Suman</td>\n",
       "      <td>Sales</td>\n",
       "      <td>15000</td>\n",
       "      <td>2</td>\n",
       "    </tr>\n",
       "    <tr>\n",
       "      <th>5</th>\n",
       "      <td>Akhshra</td>\n",
       "      <td>Management</td>\n",
       "      <td>35000</td>\n",
       "      <td>5</td>\n",
       "    </tr>\n",
       "  </tbody>\n",
       "</table>\n",
       "</div>"
      ],
      "text/plain": [
       "      Name  Department  Salary  working_hours\n",
       "0    Mohit       Sales   20000              5\n",
       "1    Rahul  Management   30000              5\n",
       "2    Kriti          HR   40000              4\n",
       "3    Purvi          HR   25000              3\n",
       "4    Suman       Sales   15000              2\n",
       "5  Akhshra  Management   35000              5"
      ]
     },
     "execution_count": 51,
     "metadata": {},
     "output_type": "execute_result"
    }
   ],
   "source": [
    "df"
   ]
  },
  {
   "cell_type": "code",
   "execution_count": 52,
   "id": "8ffd100c",
   "metadata": {},
   "outputs": [
    {
     "data": {
      "text/plain": [
       "array([['Mohit', 'Sales', 20000, 5],\n",
       "       ['Rahul', 'Management', 30000, 5],\n",
       "       ['Kriti', 'HR', 40000, 4],\n",
       "       ['Purvi', 'HR', 25000, 3],\n",
       "       ['Suman', 'Sales', 15000, 2],\n",
       "       ['Akhshra', 'Management', 35000, 5]], dtype=object)"
      ]
     },
     "execution_count": 52,
     "metadata": {},
     "output_type": "execute_result"
    }
   ],
   "source": [
    "# If we want to convert our data frame into numpy array then we use df.to_numpy() \n",
    "\n",
    "df.to_numpy() "
   ]
  },
  {
   "cell_type": "code",
   "execution_count": 53,
   "id": "8d8b19b2",
   "metadata": {},
   "outputs": [],
   "source": [
    "# How to transpose our data  \n",
    "\n",
    "# Transpose ==> row* column ==> column*row "
   ]
  },
  {
   "cell_type": "code",
   "execution_count": 55,
   "id": "1d059453",
   "metadata": {},
   "outputs": [
    {
     "data": {
      "text/html": [
       "<div>\n",
       "<style scoped>\n",
       "    .dataframe tbody tr th:only-of-type {\n",
       "        vertical-align: middle;\n",
       "    }\n",
       "\n",
       "    .dataframe tbody tr th {\n",
       "        vertical-align: top;\n",
       "    }\n",
       "\n",
       "    .dataframe thead th {\n",
       "        text-align: right;\n",
       "    }\n",
       "</style>\n",
       "<table border=\"1\" class=\"dataframe\">\n",
       "  <thead>\n",
       "    <tr style=\"text-align: right;\">\n",
       "      <th></th>\n",
       "      <th>0</th>\n",
       "      <th>1</th>\n",
       "      <th>2</th>\n",
       "      <th>3</th>\n",
       "      <th>4</th>\n",
       "      <th>5</th>\n",
       "    </tr>\n",
       "  </thead>\n",
       "  <tbody>\n",
       "    <tr>\n",
       "      <th>Name</th>\n",
       "      <td>Mohit</td>\n",
       "      <td>Rahul</td>\n",
       "      <td>Kriti</td>\n",
       "      <td>Purvi</td>\n",
       "      <td>Suman</td>\n",
       "      <td>Akhshra</td>\n",
       "    </tr>\n",
       "    <tr>\n",
       "      <th>Department</th>\n",
       "      <td>Sales</td>\n",
       "      <td>Management</td>\n",
       "      <td>HR</td>\n",
       "      <td>HR</td>\n",
       "      <td>Sales</td>\n",
       "      <td>Management</td>\n",
       "    </tr>\n",
       "    <tr>\n",
       "      <th>Salary</th>\n",
       "      <td>20000</td>\n",
       "      <td>30000</td>\n",
       "      <td>40000</td>\n",
       "      <td>25000</td>\n",
       "      <td>15000</td>\n",
       "      <td>35000</td>\n",
       "    </tr>\n",
       "    <tr>\n",
       "      <th>working_hours</th>\n",
       "      <td>5</td>\n",
       "      <td>5</td>\n",
       "      <td>4</td>\n",
       "      <td>3</td>\n",
       "      <td>2</td>\n",
       "      <td>5</td>\n",
       "    </tr>\n",
       "  </tbody>\n",
       "</table>\n",
       "</div>"
      ],
      "text/plain": [
       "                   0           1      2      3      4           5\n",
       "Name           Mohit       Rahul  Kriti  Purvi  Suman     Akhshra\n",
       "Department     Sales  Management     HR     HR  Sales  Management\n",
       "Salary         20000       30000  40000  25000  15000       35000\n",
       "working_hours      5           5      4      3      2           5"
      ]
     },
     "execution_count": 55,
     "metadata": {},
     "output_type": "execute_result"
    }
   ],
   "source": [
    "df.T"
   ]
  },
  {
   "cell_type": "code",
   "execution_count": 58,
   "id": "2de2ed22",
   "metadata": {},
   "outputs": [
    {
     "data": {
      "text/html": [
       "<div>\n",
       "<style scoped>\n",
       "    .dataframe tbody tr th:only-of-type {\n",
       "        vertical-align: middle;\n",
       "    }\n",
       "\n",
       "    .dataframe tbody tr th {\n",
       "        vertical-align: top;\n",
       "    }\n",
       "\n",
       "    .dataframe thead th {\n",
       "        text-align: right;\n",
       "    }\n",
       "</style>\n",
       "<table border=\"1\" class=\"dataframe\">\n",
       "  <thead>\n",
       "    <tr style=\"text-align: right;\">\n",
       "      <th></th>\n",
       "      <th>Name</th>\n",
       "      <th>Department</th>\n",
       "      <th>Salary</th>\n",
       "      <th>working_hours</th>\n",
       "    </tr>\n",
       "  </thead>\n",
       "  <tbody>\n",
       "    <tr>\n",
       "      <th>0</th>\n",
       "      <td>Mohit</td>\n",
       "      <td>Sales</td>\n",
       "      <td>20000</td>\n",
       "      <td>5</td>\n",
       "    </tr>\n",
       "    <tr>\n",
       "      <th>1</th>\n",
       "      <td>Rahul</td>\n",
       "      <td>Management</td>\n",
       "      <td>30000</td>\n",
       "      <td>5</td>\n",
       "    </tr>\n",
       "    <tr>\n",
       "      <th>2</th>\n",
       "      <td>Kriti</td>\n",
       "      <td>HR</td>\n",
       "      <td>40000</td>\n",
       "      <td>4</td>\n",
       "    </tr>\n",
       "    <tr>\n",
       "      <th>3</th>\n",
       "      <td>Purvi</td>\n",
       "      <td>HR</td>\n",
       "      <td>25000</td>\n",
       "      <td>3</td>\n",
       "    </tr>\n",
       "    <tr>\n",
       "      <th>4</th>\n",
       "      <td>Suman</td>\n",
       "      <td>Sales</td>\n",
       "      <td>15000</td>\n",
       "      <td>2</td>\n",
       "    </tr>\n",
       "    <tr>\n",
       "      <th>5</th>\n",
       "      <td>Akhshra</td>\n",
       "      <td>Management</td>\n",
       "      <td>35000</td>\n",
       "      <td>5</td>\n",
       "    </tr>\n",
       "  </tbody>\n",
       "</table>\n",
       "</div>"
      ],
      "text/plain": [
       "      Name  Department Salary working_hours\n",
       "0    Mohit       Sales  20000             5\n",
       "1    Rahul  Management  30000             5\n",
       "2    Kriti          HR  40000             4\n",
       "3    Purvi          HR  25000             3\n",
       "4    Suman       Sales  15000             2\n",
       "5  Akhshra  Management  35000             5"
      ]
     },
     "execution_count": 58,
     "metadata": {},
     "output_type": "execute_result"
    }
   ],
   "source": [
    "df.T.T"
   ]
  },
  {
   "cell_type": "code",
   "execution_count": 59,
   "id": "8776f0bc",
   "metadata": {},
   "outputs": [
    {
     "data": {
      "text/html": [
       "<div>\n",
       "<style scoped>\n",
       "    .dataframe tbody tr th:only-of-type {\n",
       "        vertical-align: middle;\n",
       "    }\n",
       "\n",
       "    .dataframe tbody tr th {\n",
       "        vertical-align: top;\n",
       "    }\n",
       "\n",
       "    .dataframe thead th {\n",
       "        text-align: right;\n",
       "    }\n",
       "</style>\n",
       "<table border=\"1\" class=\"dataframe\">\n",
       "  <thead>\n",
       "    <tr style=\"text-align: right;\">\n",
       "      <th></th>\n",
       "      <th>Name</th>\n",
       "      <th>Department</th>\n",
       "      <th>Salary</th>\n",
       "      <th>working_hours</th>\n",
       "    </tr>\n",
       "  </thead>\n",
       "  <tbody>\n",
       "    <tr>\n",
       "      <th>0</th>\n",
       "      <td>Mohit</td>\n",
       "      <td>Sales</td>\n",
       "      <td>20000</td>\n",
       "      <td>5</td>\n",
       "    </tr>\n",
       "    <tr>\n",
       "      <th>1</th>\n",
       "      <td>Rahul</td>\n",
       "      <td>Management</td>\n",
       "      <td>30000</td>\n",
       "      <td>5</td>\n",
       "    </tr>\n",
       "    <tr>\n",
       "      <th>2</th>\n",
       "      <td>Kriti</td>\n",
       "      <td>HR</td>\n",
       "      <td>40000</td>\n",
       "      <td>4</td>\n",
       "    </tr>\n",
       "    <tr>\n",
       "      <th>3</th>\n",
       "      <td>Purvi</td>\n",
       "      <td>HR</td>\n",
       "      <td>25000</td>\n",
       "      <td>3</td>\n",
       "    </tr>\n",
       "    <tr>\n",
       "      <th>4</th>\n",
       "      <td>Suman</td>\n",
       "      <td>Sales</td>\n",
       "      <td>15000</td>\n",
       "      <td>2</td>\n",
       "    </tr>\n",
       "    <tr>\n",
       "      <th>5</th>\n",
       "      <td>Akhshra</td>\n",
       "      <td>Management</td>\n",
       "      <td>35000</td>\n",
       "      <td>5</td>\n",
       "    </tr>\n",
       "  </tbody>\n",
       "</table>\n",
       "</div>"
      ],
      "text/plain": [
       "      Name  Department  Salary  working_hours\n",
       "0    Mohit       Sales   20000              5\n",
       "1    Rahul  Management   30000              5\n",
       "2    Kriti          HR   40000              4\n",
       "3    Purvi          HR   25000              3\n",
       "4    Suman       Sales   15000              2\n",
       "5  Akhshra  Management   35000              5"
      ]
     },
     "execution_count": 59,
     "metadata": {},
     "output_type": "execute_result"
    }
   ],
   "source": [
    "df"
   ]
  },
  {
   "cell_type": "code",
   "execution_count": 60,
   "id": "d5013062",
   "metadata": {},
   "outputs": [],
   "source": [
    "#loc and iloc \n",
    "\n",
    "# loc ==> [row_idex , column_name] \n",
    "# iloc ==> [row_index , column_index]"
   ]
  },
  {
   "cell_type": "code",
   "execution_count": 64,
   "id": "02bb57d5",
   "metadata": {},
   "outputs": [],
   "source": [
    "df.loc[2 , \"Name\"] = \"Naisha\""
   ]
  },
  {
   "cell_type": "code",
   "execution_count": 65,
   "id": "f9e1a667",
   "metadata": {},
   "outputs": [
    {
     "data": {
      "text/html": [
       "<div>\n",
       "<style scoped>\n",
       "    .dataframe tbody tr th:only-of-type {\n",
       "        vertical-align: middle;\n",
       "    }\n",
       "\n",
       "    .dataframe tbody tr th {\n",
       "        vertical-align: top;\n",
       "    }\n",
       "\n",
       "    .dataframe thead th {\n",
       "        text-align: right;\n",
       "    }\n",
       "</style>\n",
       "<table border=\"1\" class=\"dataframe\">\n",
       "  <thead>\n",
       "    <tr style=\"text-align: right;\">\n",
       "      <th></th>\n",
       "      <th>Name</th>\n",
       "      <th>Department</th>\n",
       "      <th>Salary</th>\n",
       "      <th>working_hours</th>\n",
       "    </tr>\n",
       "  </thead>\n",
       "  <tbody>\n",
       "    <tr>\n",
       "      <th>0</th>\n",
       "      <td>Mohit</td>\n",
       "      <td>Sales</td>\n",
       "      <td>20000</td>\n",
       "      <td>5</td>\n",
       "    </tr>\n",
       "    <tr>\n",
       "      <th>1</th>\n",
       "      <td>Rahul</td>\n",
       "      <td>Management</td>\n",
       "      <td>30000</td>\n",
       "      <td>5</td>\n",
       "    </tr>\n",
       "    <tr>\n",
       "      <th>2</th>\n",
       "      <td>Naisha</td>\n",
       "      <td>HR</td>\n",
       "      <td>40000</td>\n",
       "      <td>4</td>\n",
       "    </tr>\n",
       "    <tr>\n",
       "      <th>3</th>\n",
       "      <td>Purvi</td>\n",
       "      <td>HR</td>\n",
       "      <td>25000</td>\n",
       "      <td>3</td>\n",
       "    </tr>\n",
       "    <tr>\n",
       "      <th>4</th>\n",
       "      <td>Suman</td>\n",
       "      <td>Sales</td>\n",
       "      <td>15000</td>\n",
       "      <td>2</td>\n",
       "    </tr>\n",
       "    <tr>\n",
       "      <th>5</th>\n",
       "      <td>Akhshra</td>\n",
       "      <td>Management</td>\n",
       "      <td>35000</td>\n",
       "      <td>5</td>\n",
       "    </tr>\n",
       "  </tbody>\n",
       "</table>\n",
       "</div>"
      ],
      "text/plain": [
       "      Name  Department  Salary  working_hours\n",
       "0    Mohit       Sales   20000              5\n",
       "1    Rahul  Management   30000              5\n",
       "2   Naisha          HR   40000              4\n",
       "3    Purvi          HR   25000              3\n",
       "4    Suman       Sales   15000              2\n",
       "5  Akhshra  Management   35000              5"
      ]
     },
     "execution_count": 65,
     "metadata": {},
     "output_type": "execute_result"
    }
   ],
   "source": [
    "df"
   ]
  },
  {
   "cell_type": "code",
   "execution_count": 70,
   "id": "48237b8d",
   "metadata": {},
   "outputs": [
    {
     "data": {
      "text/html": [
       "<div>\n",
       "<style scoped>\n",
       "    .dataframe tbody tr th:only-of-type {\n",
       "        vertical-align: middle;\n",
       "    }\n",
       "\n",
       "    .dataframe tbody tr th {\n",
       "        vertical-align: top;\n",
       "    }\n",
       "\n",
       "    .dataframe thead th {\n",
       "        text-align: right;\n",
       "    }\n",
       "</style>\n",
       "<table border=\"1\" class=\"dataframe\">\n",
       "  <thead>\n",
       "    <tr style=\"text-align: right;\">\n",
       "      <th></th>\n",
       "      <th>Name</th>\n",
       "      <th>Salary</th>\n",
       "    </tr>\n",
       "  </thead>\n",
       "  <tbody>\n",
       "    <tr>\n",
       "      <th>2</th>\n",
       "      <td>Naisha</td>\n",
       "      <td>40000</td>\n",
       "    </tr>\n",
       "    <tr>\n",
       "      <th>3</th>\n",
       "      <td>Purvi</td>\n",
       "      <td>25000</td>\n",
       "    </tr>\n",
       "    <tr>\n",
       "      <th>4</th>\n",
       "      <td>Suman</td>\n",
       "      <td>15000</td>\n",
       "    </tr>\n",
       "    <tr>\n",
       "      <th>5</th>\n",
       "      <td>Akhshra</td>\n",
       "      <td>35000</td>\n",
       "    </tr>\n",
       "  </tbody>\n",
       "</table>\n",
       "</div>"
      ],
      "text/plain": [
       "      Name  Salary\n",
       "2   Naisha   40000\n",
       "3    Purvi   25000\n",
       "4    Suman   15000\n",
       "5  Akhshra   35000"
      ]
     },
     "execution_count": 70,
     "metadata": {},
     "output_type": "execute_result"
    }
   ],
   "source": [
    "df.loc[2:5 , [\"Name\" , \"Salary\"]]"
   ]
  },
  {
   "cell_type": "code",
   "execution_count": 73,
   "id": "8fef94d9",
   "metadata": {},
   "outputs": [
    {
     "data": {
      "text/plain": [
       "'Naisha'"
      ]
     },
     "execution_count": 73,
     "metadata": {},
     "output_type": "execute_result"
    }
   ],
   "source": [
    "df.iloc[2 , 0]"
   ]
  },
  {
   "cell_type": "code",
   "execution_count": null,
   "id": "6769b676",
   "metadata": {},
   "outputs": [],
   "source": []
  }
 ],
 "metadata": {
  "kernelspec": {
   "display_name": "Python 3 (ipykernel)",
   "language": "python",
   "name": "python3"
  },
  "language_info": {
   "codemirror_mode": {
    "name": "ipython",
    "version": 3
   },
   "file_extension": ".py",
   "mimetype": "text/x-python",
   "name": "python",
   "nbconvert_exporter": "python",
   "pygments_lexer": "ipython3",
   "version": "3.9.12"
  }
 },
 "nbformat": 4,
 "nbformat_minor": 5
}
