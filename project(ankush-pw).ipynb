{
 "cells": [
  {
   "cell_type": "markdown",
   "id": "a7031801",
   "metadata": {},
   "source": [
    "# example - 2"
   ]
  },
  {
   "cell_type": "code",
   "execution_count": 25,
   "id": "2609fe69",
   "metadata": {},
   "outputs": [],
   "source": [
    "import numpy as np \n",
    "import pandas as pd "
   ]
  },
  {
   "cell_type": "code",
   "execution_count": 26,
   "id": "253a6a81",
   "metadata": {},
   "outputs": [],
   "source": [
    "df = pd.read_excel(\"C:\\\\Users\\\\saurabh\\\\Desktop\\\\Newdat\\\\Water_Supply_Data.xlsx\")\n"
   ]
  },
  {
   "cell_type": "code",
   "execution_count": 27,
   "id": "6994081b",
   "metadata": {},
   "outputs": [
    {
     "data": {
      "text/html": [
       "<div>\n",
       "<style scoped>\n",
       "    .dataframe tbody tr th:only-of-type {\n",
       "        vertical-align: middle;\n",
       "    }\n",
       "\n",
       "    .dataframe tbody tr th {\n",
       "        vertical-align: top;\n",
       "    }\n",
       "\n",
       "    .dataframe thead th {\n",
       "        text-align: right;\n",
       "    }\n",
       "</style>\n",
       "<table border=\"1\" class=\"dataframe\">\n",
       "  <thead>\n",
       "    <tr style=\"text-align: right;\">\n",
       "      <th></th>\n",
       "      <th>Connection ID</th>\n",
       "      <th>Location</th>\n",
       "      <th>Type</th>\n",
       "      <th>Connection Date</th>\n",
       "      <th>Water Source</th>\n",
       "      <th>Daily Consumption (Liters)</th>\n",
       "      <th>Family Members</th>\n",
       "      <th>Monthly Bill</th>\n",
       "      <th>Status</th>\n",
       "      <th>Electric Bill (Status)</th>\n",
       "      <th>Electric Bill</th>\n",
       "    </tr>\n",
       "  </thead>\n",
       "  <tbody>\n",
       "    <tr>\n",
       "      <th>0</th>\n",
       "      <td>1001</td>\n",
       "      <td>jaipur (Zone 2)</td>\n",
       "      <td>Residential</td>\n",
       "      <td>2023-01-15</td>\n",
       "      <td>Lake</td>\n",
       "      <td>200</td>\n",
       "      <td>2</td>\n",
       "      <td>1000</td>\n",
       "      <td>Active</td>\n",
       "      <td>Inactive</td>\n",
       "      <td>1500.0</td>\n",
       "    </tr>\n",
       "    <tr>\n",
       "      <th>1</th>\n",
       "      <td>1002</td>\n",
       "      <td>jaipur (Zone 1)</td>\n",
       "      <td>Commercial</td>\n",
       "      <td>2022-08-20</td>\n",
       "      <td>Borewell</td>\n",
       "      <td>220</td>\n",
       "      <td>2</td>\n",
       "      <td>1100</td>\n",
       "      <td>Inactive</td>\n",
       "      <td>Inactive</td>\n",
       "      <td>1650.0</td>\n",
       "    </tr>\n",
       "    <tr>\n",
       "      <th>2</th>\n",
       "      <td>1003</td>\n",
       "      <td>jaipur (Zone 3)</td>\n",
       "      <td>Industrial</td>\n",
       "      <td>2020-03-05</td>\n",
       "      <td>River</td>\n",
       "      <td>900</td>\n",
       "      <td>9</td>\n",
       "      <td>4500</td>\n",
       "      <td>Active</td>\n",
       "      <td>Active</td>\n",
       "      <td>6750.0</td>\n",
       "    </tr>\n",
       "    <tr>\n",
       "      <th>3</th>\n",
       "      <td>1004</td>\n",
       "      <td>jaipur (Zone 4)</td>\n",
       "      <td>Residential</td>\n",
       "      <td>2021-11-10</td>\n",
       "      <td>Borewell</td>\n",
       "      <td>520</td>\n",
       "      <td>5</td>\n",
       "      <td>2600</td>\n",
       "      <td>Active</td>\n",
       "      <td>Inactive</td>\n",
       "      <td>3900.0</td>\n",
       "    </tr>\n",
       "    <tr>\n",
       "      <th>4</th>\n",
       "      <td>1005</td>\n",
       "      <td>jaipur (Zone 5)</td>\n",
       "      <td>Residential</td>\n",
       "      <td>2022-06-12</td>\n",
       "      <td>Lake</td>\n",
       "      <td>250</td>\n",
       "      <td>2</td>\n",
       "      <td>1250</td>\n",
       "      <td>Inactive</td>\n",
       "      <td>Active</td>\n",
       "      <td>1875.0</td>\n",
       "    </tr>\n",
       "  </tbody>\n",
       "</table>\n",
       "</div>"
      ],
      "text/plain": [
       "   Connection ID         Location         Type Connection Date Water Source  \\\n",
       "0           1001  jaipur (Zone 2)  Residential      2023-01-15         Lake   \n",
       "1           1002  jaipur (Zone 1)   Commercial      2022-08-20     Borewell   \n",
       "2           1003  jaipur (Zone 3)   Industrial      2020-03-05        River   \n",
       "3           1004  jaipur (Zone 4)  Residential      2021-11-10     Borewell   \n",
       "4           1005  jaipur (Zone 5)  Residential      2022-06-12         Lake   \n",
       "\n",
       "   Daily Consumption (Liters)  Family Members  Monthly Bill    Status  \\\n",
       "0                         200               2          1000    Active   \n",
       "1                         220               2          1100  Inactive   \n",
       "2                         900               9          4500    Active   \n",
       "3                         520               5          2600    Active   \n",
       "4                         250               2          1250  Inactive   \n",
       "\n",
       "  Electric Bill (Status)  Electric Bill  \n",
       "0               Inactive         1500.0  \n",
       "1               Inactive         1650.0  \n",
       "2                 Active         6750.0  \n",
       "3               Inactive         3900.0  \n",
       "4                 Active         1875.0  "
      ]
     },
     "execution_count": 27,
     "metadata": {},
     "output_type": "execute_result"
    }
   ],
   "source": [
    "df.head()"
   ]
  },
  {
   "cell_type": "code",
   "execution_count": 28,
   "id": "e3914574",
   "metadata": {},
   "outputs": [],
   "source": [
    "from sklearn.preprocessing import LabelEncoder "
   ]
  },
  {
   "cell_type": "code",
   "execution_count": 29,
   "id": "377a12a7",
   "metadata": {},
   "outputs": [],
   "source": [
    "lb = LabelEncoder() "
   ]
  },
  {
   "cell_type": "code",
   "execution_count": 30,
   "id": "f432aab3",
   "metadata": {},
   "outputs": [],
   "source": [
    "df['Location'] = lb.fit_transform(df['Location'])\n",
    "df['Type'] = lb.fit_transform(df['Type'])\n",
    "df['Water Source'] = lb.fit_transform(df['Water Source'])"
   ]
  },
  {
   "cell_type": "code",
   "execution_count": 31,
   "id": "2421b806",
   "metadata": {},
   "outputs": [
    {
     "data": {
      "text/html": [
       "<div>\n",
       "<style scoped>\n",
       "    .dataframe tbody tr th:only-of-type {\n",
       "        vertical-align: middle;\n",
       "    }\n",
       "\n",
       "    .dataframe tbody tr th {\n",
       "        vertical-align: top;\n",
       "    }\n",
       "\n",
       "    .dataframe thead th {\n",
       "        text-align: right;\n",
       "    }\n",
       "</style>\n",
       "<table border=\"1\" class=\"dataframe\">\n",
       "  <thead>\n",
       "    <tr style=\"text-align: right;\">\n",
       "      <th></th>\n",
       "      <th>Connection ID</th>\n",
       "      <th>Location</th>\n",
       "      <th>Type</th>\n",
       "      <th>Connection Date</th>\n",
       "      <th>Water Source</th>\n",
       "      <th>Daily Consumption (Liters)</th>\n",
       "      <th>Family Members</th>\n",
       "      <th>Monthly Bill</th>\n",
       "      <th>Status</th>\n",
       "      <th>Electric Bill (Status)</th>\n",
       "      <th>Electric Bill</th>\n",
       "    </tr>\n",
       "  </thead>\n",
       "  <tbody>\n",
       "    <tr>\n",
       "      <th>0</th>\n",
       "      <td>1001</td>\n",
       "      <td>2</td>\n",
       "      <td>2</td>\n",
       "      <td>2023-01-15</td>\n",
       "      <td>1</td>\n",
       "      <td>200</td>\n",
       "      <td>2</td>\n",
       "      <td>1000</td>\n",
       "      <td>Active</td>\n",
       "      <td>Inactive</td>\n",
       "      <td>1500.0</td>\n",
       "    </tr>\n",
       "    <tr>\n",
       "      <th>1</th>\n",
       "      <td>1002</td>\n",
       "      <td>1</td>\n",
       "      <td>0</td>\n",
       "      <td>2022-08-20</td>\n",
       "      <td>0</td>\n",
       "      <td>220</td>\n",
       "      <td>2</td>\n",
       "      <td>1100</td>\n",
       "      <td>Inactive</td>\n",
       "      <td>Inactive</td>\n",
       "      <td>1650.0</td>\n",
       "    </tr>\n",
       "    <tr>\n",
       "      <th>2</th>\n",
       "      <td>1003</td>\n",
       "      <td>3</td>\n",
       "      <td>1</td>\n",
       "      <td>2020-03-05</td>\n",
       "      <td>5</td>\n",
       "      <td>900</td>\n",
       "      <td>9</td>\n",
       "      <td>4500</td>\n",
       "      <td>Active</td>\n",
       "      <td>Active</td>\n",
       "      <td>6750.0</td>\n",
       "    </tr>\n",
       "    <tr>\n",
       "      <th>3</th>\n",
       "      <td>1004</td>\n",
       "      <td>4</td>\n",
       "      <td>2</td>\n",
       "      <td>2021-11-10</td>\n",
       "      <td>0</td>\n",
       "      <td>520</td>\n",
       "      <td>5</td>\n",
       "      <td>2600</td>\n",
       "      <td>Active</td>\n",
       "      <td>Inactive</td>\n",
       "      <td>3900.0</td>\n",
       "    </tr>\n",
       "    <tr>\n",
       "      <th>4</th>\n",
       "      <td>1005</td>\n",
       "      <td>5</td>\n",
       "      <td>2</td>\n",
       "      <td>2022-06-12</td>\n",
       "      <td>1</td>\n",
       "      <td>250</td>\n",
       "      <td>2</td>\n",
       "      <td>1250</td>\n",
       "      <td>Inactive</td>\n",
       "      <td>Active</td>\n",
       "      <td>1875.0</td>\n",
       "    </tr>\n",
       "  </tbody>\n",
       "</table>\n",
       "</div>"
      ],
      "text/plain": [
       "   Connection ID  Location  Type Connection Date  Water Source  \\\n",
       "0           1001         2     2      2023-01-15             1   \n",
       "1           1002         1     0      2022-08-20             0   \n",
       "2           1003         3     1      2020-03-05             5   \n",
       "3           1004         4     2      2021-11-10             0   \n",
       "4           1005         5     2      2022-06-12             1   \n",
       "\n",
       "   Daily Consumption (Liters)  Family Members  Monthly Bill    Status  \\\n",
       "0                         200               2          1000    Active   \n",
       "1                         220               2          1100  Inactive   \n",
       "2                         900               9          4500    Active   \n",
       "3                         520               5          2600    Active   \n",
       "4                         250               2          1250  Inactive   \n",
       "\n",
       "  Electric Bill (Status)  Electric Bill  \n",
       "0               Inactive         1500.0  \n",
       "1               Inactive         1650.0  \n",
       "2                 Active         6750.0  \n",
       "3               Inactive         3900.0  \n",
       "4                 Active         1875.0  "
      ]
     },
     "execution_count": 31,
     "metadata": {},
     "output_type": "execute_result"
    }
   ],
   "source": [
    "df.head()"
   ]
  },
  {
   "cell_type": "code",
   "execution_count": 35,
   "id": "af53bb79",
   "metadata": {},
   "outputs": [
    {
     "data": {
      "text/plain": [
       "Index(['Connection ID', 'Location', 'Type', 'Connection Date', 'Water Source',\n",
       "       'Daily Consumption (Liters)', 'Family Members', 'Monthly Bill',\n",
       "       'Status', 'Electric Bill (Status)', 'Electric Bill'],\n",
       "      dtype='object')"
      ]
     },
     "execution_count": 35,
     "metadata": {},
     "output_type": "execute_result"
    }
   ],
   "source": [
    "df.columns"
   ]
  },
  {
   "cell_type": "code",
   "execution_count": 36,
   "id": "491a5c63",
   "metadata": {},
   "outputs": [],
   "source": [
    "df['Status'] = lb.fit_transform(df['Status'])"
   ]
  },
  {
   "cell_type": "code",
   "execution_count": 37,
   "id": "f5be61f2",
   "metadata": {},
   "outputs": [],
   "source": [
    "df['Electric Bill (Status)'] = lb.fit_transform(df['Electric Bill (Status)'])"
   ]
  },
  {
   "cell_type": "code",
   "execution_count": 38,
   "id": "590f990f",
   "metadata": {},
   "outputs": [
    {
     "data": {
      "text/html": [
       "<div>\n",
       "<style scoped>\n",
       "    .dataframe tbody tr th:only-of-type {\n",
       "        vertical-align: middle;\n",
       "    }\n",
       "\n",
       "    .dataframe tbody tr th {\n",
       "        vertical-align: top;\n",
       "    }\n",
       "\n",
       "    .dataframe thead th {\n",
       "        text-align: right;\n",
       "    }\n",
       "</style>\n",
       "<table border=\"1\" class=\"dataframe\">\n",
       "  <thead>\n",
       "    <tr style=\"text-align: right;\">\n",
       "      <th></th>\n",
       "      <th>Connection ID</th>\n",
       "      <th>Location</th>\n",
       "      <th>Type</th>\n",
       "      <th>Connection Date</th>\n",
       "      <th>Water Source</th>\n",
       "      <th>Daily Consumption (Liters)</th>\n",
       "      <th>Family Members</th>\n",
       "      <th>Monthly Bill</th>\n",
       "      <th>Status</th>\n",
       "      <th>Electric Bill (Status)</th>\n",
       "      <th>Electric Bill</th>\n",
       "    </tr>\n",
       "  </thead>\n",
       "  <tbody>\n",
       "    <tr>\n",
       "      <th>0</th>\n",
       "      <td>1001</td>\n",
       "      <td>2</td>\n",
       "      <td>2</td>\n",
       "      <td>2023-01-15</td>\n",
       "      <td>1</td>\n",
       "      <td>200</td>\n",
       "      <td>2</td>\n",
       "      <td>1000</td>\n",
       "      <td>0</td>\n",
       "      <td>1</td>\n",
       "      <td>1500.0</td>\n",
       "    </tr>\n",
       "    <tr>\n",
       "      <th>1</th>\n",
       "      <td>1002</td>\n",
       "      <td>1</td>\n",
       "      <td>0</td>\n",
       "      <td>2022-08-20</td>\n",
       "      <td>0</td>\n",
       "      <td>220</td>\n",
       "      <td>2</td>\n",
       "      <td>1100</td>\n",
       "      <td>1</td>\n",
       "      <td>1</td>\n",
       "      <td>1650.0</td>\n",
       "    </tr>\n",
       "    <tr>\n",
       "      <th>2</th>\n",
       "      <td>1003</td>\n",
       "      <td>3</td>\n",
       "      <td>1</td>\n",
       "      <td>2020-03-05</td>\n",
       "      <td>5</td>\n",
       "      <td>900</td>\n",
       "      <td>9</td>\n",
       "      <td>4500</td>\n",
       "      <td>0</td>\n",
       "      <td>0</td>\n",
       "      <td>6750.0</td>\n",
       "    </tr>\n",
       "    <tr>\n",
       "      <th>3</th>\n",
       "      <td>1004</td>\n",
       "      <td>4</td>\n",
       "      <td>2</td>\n",
       "      <td>2021-11-10</td>\n",
       "      <td>0</td>\n",
       "      <td>520</td>\n",
       "      <td>5</td>\n",
       "      <td>2600</td>\n",
       "      <td>0</td>\n",
       "      <td>1</td>\n",
       "      <td>3900.0</td>\n",
       "    </tr>\n",
       "    <tr>\n",
       "      <th>4</th>\n",
       "      <td>1005</td>\n",
       "      <td>5</td>\n",
       "      <td>2</td>\n",
       "      <td>2022-06-12</td>\n",
       "      <td>1</td>\n",
       "      <td>250</td>\n",
       "      <td>2</td>\n",
       "      <td>1250</td>\n",
       "      <td>1</td>\n",
       "      <td>0</td>\n",
       "      <td>1875.0</td>\n",
       "    </tr>\n",
       "  </tbody>\n",
       "</table>\n",
       "</div>"
      ],
      "text/plain": [
       "   Connection ID  Location  Type Connection Date  Water Source  \\\n",
       "0           1001         2     2      2023-01-15             1   \n",
       "1           1002         1     0      2022-08-20             0   \n",
       "2           1003         3     1      2020-03-05             5   \n",
       "3           1004         4     2      2021-11-10             0   \n",
       "4           1005         5     2      2022-06-12             1   \n",
       "\n",
       "   Daily Consumption (Liters)  Family Members  Monthly Bill  Status  \\\n",
       "0                         200               2          1000       0   \n",
       "1                         220               2          1100       1   \n",
       "2                         900               9          4500       0   \n",
       "3                         520               5          2600       0   \n",
       "4                         250               2          1250       1   \n",
       "\n",
       "   Electric Bill (Status)  Electric Bill  \n",
       "0                       1         1500.0  \n",
       "1                       1         1650.0  \n",
       "2                       0         6750.0  \n",
       "3                       1         3900.0  \n",
       "4                       0         1875.0  "
      ]
     },
     "execution_count": 38,
     "metadata": {},
     "output_type": "execute_result"
    }
   ],
   "source": [
    "df.head()"
   ]
  },
  {
   "cell_type": "code",
   "execution_count": 39,
   "id": "46d02757",
   "metadata": {},
   "outputs": [],
   "source": [
    "df = df.drop(columns = ['Connection Date' , 'Connection ID' , 'Water Source' , 'Location' , 'Electric Bill (Status)' ] , axis = 1)"
   ]
  },
  {
   "cell_type": "code",
   "execution_count": 40,
   "id": "373c1c05",
   "metadata": {},
   "outputs": [
    {
     "data": {
      "text/html": [
       "<div>\n",
       "<style scoped>\n",
       "    .dataframe tbody tr th:only-of-type {\n",
       "        vertical-align: middle;\n",
       "    }\n",
       "\n",
       "    .dataframe tbody tr th {\n",
       "        vertical-align: top;\n",
       "    }\n",
       "\n",
       "    .dataframe thead th {\n",
       "        text-align: right;\n",
       "    }\n",
       "</style>\n",
       "<table border=\"1\" class=\"dataframe\">\n",
       "  <thead>\n",
       "    <tr style=\"text-align: right;\">\n",
       "      <th></th>\n",
       "      <th>Type</th>\n",
       "      <th>Daily Consumption (Liters)</th>\n",
       "      <th>Family Members</th>\n",
       "      <th>Monthly Bill</th>\n",
       "      <th>Status</th>\n",
       "      <th>Electric Bill</th>\n",
       "    </tr>\n",
       "  </thead>\n",
       "  <tbody>\n",
       "    <tr>\n",
       "      <th>0</th>\n",
       "      <td>2</td>\n",
       "      <td>200</td>\n",
       "      <td>2</td>\n",
       "      <td>1000</td>\n",
       "      <td>0</td>\n",
       "      <td>1500.0</td>\n",
       "    </tr>\n",
       "    <tr>\n",
       "      <th>1</th>\n",
       "      <td>0</td>\n",
       "      <td>220</td>\n",
       "      <td>2</td>\n",
       "      <td>1100</td>\n",
       "      <td>1</td>\n",
       "      <td>1650.0</td>\n",
       "    </tr>\n",
       "    <tr>\n",
       "      <th>2</th>\n",
       "      <td>1</td>\n",
       "      <td>900</td>\n",
       "      <td>9</td>\n",
       "      <td>4500</td>\n",
       "      <td>0</td>\n",
       "      <td>6750.0</td>\n",
       "    </tr>\n",
       "    <tr>\n",
       "      <th>3</th>\n",
       "      <td>2</td>\n",
       "      <td>520</td>\n",
       "      <td>5</td>\n",
       "      <td>2600</td>\n",
       "      <td>0</td>\n",
       "      <td>3900.0</td>\n",
       "    </tr>\n",
       "    <tr>\n",
       "      <th>4</th>\n",
       "      <td>2</td>\n",
       "      <td>250</td>\n",
       "      <td>2</td>\n",
       "      <td>1250</td>\n",
       "      <td>1</td>\n",
       "      <td>1875.0</td>\n",
       "    </tr>\n",
       "  </tbody>\n",
       "</table>\n",
       "</div>"
      ],
      "text/plain": [
       "   Type  Daily Consumption (Liters)  Family Members  Monthly Bill  Status  \\\n",
       "0     2                         200               2          1000       0   \n",
       "1     0                         220               2          1100       1   \n",
       "2     1                         900               9          4500       0   \n",
       "3     2                         520               5          2600       0   \n",
       "4     2                         250               2          1250       1   \n",
       "\n",
       "   Electric Bill  \n",
       "0         1500.0  \n",
       "1         1650.0  \n",
       "2         6750.0  \n",
       "3         3900.0  \n",
       "4         1875.0  "
      ]
     },
     "execution_count": 40,
     "metadata": {},
     "output_type": "execute_result"
    }
   ],
   "source": [
    "df.head() "
   ]
  },
  {
   "cell_type": "code",
   "execution_count": 41,
   "id": "9d0aedca",
   "metadata": {},
   "outputs": [],
   "source": [
    "x = df.drop(columns = ['Electric Bill'] , axis = 1)  #Independent data \n",
    "y = df['Electric Bill']  #dependent data "
   ]
  },
  {
   "cell_type": "code",
   "execution_count": 43,
   "id": "51505d1c",
   "metadata": {},
   "outputs": [],
   "source": [
    "from sklearn.model_selection  import train_test_split "
   ]
  },
  {
   "cell_type": "code",
   "execution_count": 44,
   "id": "1320bc9d",
   "metadata": {},
   "outputs": [],
   "source": [
    "x_train , x_test , y_train  ,y_test = train_test_split(x,y,test_size = 0.2 , random_state = 42) "
   ]
  },
  {
   "cell_type": "code",
   "execution_count": 45,
   "id": "59ee98fa",
   "metadata": {},
   "outputs": [],
   "source": [
    "from sklearn.ensemble import RandomForestRegressor "
   ]
  },
  {
   "cell_type": "code",
   "execution_count": 46,
   "id": "2b2a5089",
   "metadata": {},
   "outputs": [],
   "source": [
    "rf = RandomForestRegressor() "
   ]
  },
  {
   "cell_type": "code",
   "execution_count": 47,
   "id": "50323737",
   "metadata": {},
   "outputs": [
    {
     "data": {
      "text/plain": [
       "RandomForestRegressor()"
      ]
     },
     "execution_count": 47,
     "metadata": {},
     "output_type": "execute_result"
    }
   ],
   "source": [
    "rf.fit(x_train , y_train) "
   ]
  },
  {
   "cell_type": "code",
   "execution_count": 48,
   "id": "a434bf44",
   "metadata": {},
   "outputs": [],
   "source": [
    "y_pred = rf.predict(x_test) "
   ]
  },
  {
   "cell_type": "code",
   "execution_count": 49,
   "id": "0ddb6eab",
   "metadata": {},
   "outputs": [],
   "source": [
    "from sklearn.metrics import r2_score "
   ]
  },
  {
   "cell_type": "code",
   "execution_count": 50,
   "id": "dd04b7f0",
   "metadata": {},
   "outputs": [
    {
     "data": {
      "text/plain": [
       "0.9999509790017698"
      ]
     },
     "execution_count": 50,
     "metadata": {},
     "output_type": "execute_result"
    }
   ],
   "source": [
    "r2_score(y_test , y_pred)"
   ]
  },
  {
   "cell_type": "code",
   "execution_count": 52,
   "id": "1fdbd591",
   "metadata": {},
   "outputs": [
    {
     "data": {
      "text/plain": [
       "array([6.48520927e-06, 3.35261289e-01, 3.19809583e-01, 3.44921985e-01,\n",
       "       6.57317555e-07])"
      ]
     },
     "execution_count": 52,
     "metadata": {},
     "output_type": "execute_result"
    }
   ],
   "source": [
    "rf.feature_importances_"
   ]
  },
  {
   "cell_type": "code",
   "execution_count": null,
   "id": "e0cf7dcb",
   "metadata": {},
   "outputs": [],
   "source": []
  }
 ],
 "metadata": {
  "kernelspec": {
   "display_name": "Python 3 (ipykernel)",
   "language": "python",
   "name": "python3"
  },
  "language_info": {
   "codemirror_mode": {
    "name": "ipython",
    "version": 3
   },
   "file_extension": ".py",
   "mimetype": "text/x-python",
   "name": "python",
   "nbconvert_exporter": "python",
   "pygments_lexer": "ipython3",
   "version": "3.9.12"
  }
 },
 "nbformat": 4,
 "nbformat_minor": 5
}
